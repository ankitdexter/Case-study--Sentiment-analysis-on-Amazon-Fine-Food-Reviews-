{
 "cells": [
  {
   "cell_type": "markdown",
   "metadata": {},
   "source": [
    "# <center>Amazon Reviews Sentiment Prediction using KNN</center>\n",
    "\n",
    "We are given here amazon reviews dataset. We will first convert all reviews text to vector\n",
    "  using different techniques like(bow, tfidf, average w2v, tfidf weighted average w2v).\n",
    "Our task here is to give Generalization score of our classifier (KNN using 'bruteforce' &\n",
    "  'kd_tree') on different text to vector converted data. We also need to get optimal\n",
    "  k(nearest neigbors).\n",
    "After getting vector form of reviews we will fit these data in KNN classifier using two\n",
    "  different algorithms 'bruteforce' and 'kd_tree'"
   ]
  },
  {
   "cell_type": "code",
   "execution_count": null,
   "metadata": {},
   "outputs": [],
   "source": [
    "#importing necessary packages\n",
    "import sqlite3\n",
    "import pandas as pd\n",
    "import numpy as np\n",
    "from sklearn.preprocessing import StandardScaler\n",
    "import matplotlib.pyplot as plt\n",
    "import seaborn as sns\n",
    "import nltk\n",
    "from sklearn.feature_extraction.text import CountVectorizer,TfidfVectorizer\n",
    "import pickle\n",
    "import gensim\n",
    "import sklearn.cross_validation\n",
    "from sklearn.model_selection import train_test_split\n",
    "import warnings\n",
    "warnings.filterwarnings(action='ignore', category=UserWarning, module='gensim')"
   ]
  },
  {
   "cell_type": "code",
   "execution_count": 2,
   "metadata": {},
   "outputs": [],
   "source": [
    "from sklearn.neighbors import KNeighborsClassifier\n",
    "from sklearn.metrics import accuracy_score\n",
    "from sklearn.cross_validation import cross_val_score\n",
    "from collections import Counter\n",
    "from sklearn.metrics import accuracy_score\n",
    "from sklearn import cross_validation"
   ]
  },
  {
   "cell_type": "markdown",
   "metadata": {},
   "source": [
    "## Reading already Cleaned, Preprocessed data from database\n",
    "\n",
    "After removing stopwords, punctuations, meaningless characters, HTML tags from Text \n",
    "and done stemming. Using it directly as it was alredy done in prevoius assignment"
   ]
  },
  {
   "cell_type": "code",
   "execution_count": 3,
   "metadata": {},
   "outputs": [
    {
     "data": {
      "text/plain": [
       "(364171, 11)"
      ]
     },
     "execution_count": 3,
     "metadata": {},
     "output_type": "execute_result"
    }
   ],
   "source": [
    "#Reading\n",
    "conn= sqlite3.connect('cleanedTextData.sqlite')\n",
    "data= pd.read_sql_query('''\n",
    "SELECT * FROM Reviews\n",
    "''',conn)\n",
    "data=data.drop('index',axis=1)\n",
    "data.shape"
   ]
  },
  {
   "cell_type": "code",
   "execution_count": 4,
   "metadata": {},
   "outputs": [
    {
     "data": {
      "text/plain": [
       "Index(['Id', 'ProductId', 'UserId', 'ProfileName', 'HelpfulnessNumerator',\n",
       "       'HelpfulnessDenominator', 'Score', 'Time', 'Summary', 'Text',\n",
       "       'CleanedText'],\n",
       "      dtype='object')"
      ]
     },
     "execution_count": 4,
     "metadata": {},
     "output_type": "execute_result"
    }
   ],
   "source": [
    "data.columns"
   ]
  },
  {
   "cell_type": "code",
   "execution_count": 5,
   "metadata": {},
   "outputs": [
    {
     "data": {
      "text/plain": [
       "0    witti littl book make son laugh loud recit car...\n",
       "1    rememb see show air televis year ago child sis...\n",
       "2    beetlejuic well written movi everyth act speci...\n",
       "Name: CleanedText, dtype: object"
      ]
     },
     "execution_count": 5,
     "metadata": {},
     "output_type": "execute_result"
    }
   ],
   "source": [
    "data['CleanedText'].head(3)"
   ]
  },
  {
   "cell_type": "markdown",
   "metadata": {},
   "source": [
    " ## Sorting on the basis of 'Time' and taking top 60k pts\n",
    "\n",
    " This data has time attribute so it will be reasonable to do time based splitting instead\n",
    "   of random splitting.\n",
    "\n",
    " So, before splitting we have to sort our data according to time and here we are taking\n",
    " 100k points from our dataset(population)"
   ]
  },
  {
   "cell_type": "code",
   "execution_count": 6,
   "metadata": {},
   "outputs": [
    {
     "data": {
      "text/html": [
       "<div>\n",
       "<style scoped>\n",
       "    .dataframe tbody tr th:only-of-type {\n",
       "        vertical-align: middle;\n",
       "    }\n",
       "\n",
       "    .dataframe tbody tr th {\n",
       "        vertical-align: top;\n",
       "    }\n",
       "\n",
       "    .dataframe thead th {\n",
       "        text-align: right;\n",
       "    }\n",
       "</style>\n",
       "<table border=\"1\" class=\"dataframe\">\n",
       "  <thead>\n",
       "    <tr style=\"text-align: right;\">\n",
       "      <th></th>\n",
       "      <th>Id</th>\n",
       "      <th>ProductId</th>\n",
       "      <th>UserId</th>\n",
       "      <th>ProfileName</th>\n",
       "      <th>HelpfulnessNumerator</th>\n",
       "      <th>HelpfulnessDenominator</th>\n",
       "      <th>Score</th>\n",
       "      <th>Time</th>\n",
       "      <th>Summary</th>\n",
       "      <th>Text</th>\n",
       "      <th>CleanedText</th>\n",
       "    </tr>\n",
       "  </thead>\n",
       "  <tbody>\n",
       "    <tr>\n",
       "      <th>0</th>\n",
       "      <td>150524</td>\n",
       "      <td>0006641040</td>\n",
       "      <td>ACITT7DI6IDDL</td>\n",
       "      <td>shari zychinski</td>\n",
       "      <td>0</td>\n",
       "      <td>0</td>\n",
       "      <td>Positive</td>\n",
       "      <td>1970-01-11 20:55:40.800</td>\n",
       "      <td>EVERY book is educational</td>\n",
       "      <td>this witty little book makes my son laugh at l...</td>\n",
       "      <td>witti littl book make son laugh loud recit car...</td>\n",
       "    </tr>\n",
       "    <tr>\n",
       "      <th>1</th>\n",
       "      <td>150501</td>\n",
       "      <td>0006641040</td>\n",
       "      <td>AJ46FKXOVC7NR</td>\n",
       "      <td>Nicholas A Mesiano</td>\n",
       "      <td>2</td>\n",
       "      <td>2</td>\n",
       "      <td>Positive</td>\n",
       "      <td>1970-01-11 21:20:09.600</td>\n",
       "      <td>This whole series is great way to spend time w...</td>\n",
       "      <td>I can remember seeing the show when it aired o...</td>\n",
       "      <td>rememb see show air televis year ago child sis...</td>\n",
       "    </tr>\n",
       "    <tr>\n",
       "      <th>2</th>\n",
       "      <td>451856</td>\n",
       "      <td>B00004CXX9</td>\n",
       "      <td>AIUWLEQ1ADEG5</td>\n",
       "      <td>Elizabeth Medina</td>\n",
       "      <td>0</td>\n",
       "      <td>0</td>\n",
       "      <td>Positive</td>\n",
       "      <td>1970-01-11 22:14:52.800</td>\n",
       "      <td>Entertainingl Funny!</td>\n",
       "      <td>Beetlejuice is a well written movie ..... ever...</td>\n",
       "      <td>beetlejuic well written movi everyth act speci...</td>\n",
       "    </tr>\n",
       "  </tbody>\n",
       "</table>\n",
       "</div>"
      ],
      "text/plain": [
       "       Id   ProductId         UserId         ProfileName  \\\n",
       "0  150524  0006641040  ACITT7DI6IDDL     shari zychinski   \n",
       "1  150501  0006641040  AJ46FKXOVC7NR  Nicholas A Mesiano   \n",
       "2  451856  B00004CXX9  AIUWLEQ1ADEG5    Elizabeth Medina   \n",
       "\n",
       "   HelpfulnessNumerator  HelpfulnessDenominator     Score  \\\n",
       "0                     0                       0  Positive   \n",
       "1                     2                       2  Positive   \n",
       "2                     0                       0  Positive   \n",
       "\n",
       "                     Time                                            Summary  \\\n",
       "0 1970-01-11 20:55:40.800                          EVERY book is educational   \n",
       "1 1970-01-11 21:20:09.600  This whole series is great way to spend time w...   \n",
       "2 1970-01-11 22:14:52.800                               Entertainingl Funny!   \n",
       "\n",
       "                                                Text  \\\n",
       "0  this witty little book makes my son laugh at l...   \n",
       "1  I can remember seeing the show when it aired o...   \n",
       "2  Beetlejuice is a well written movie ..... ever...   \n",
       "\n",
       "                                         CleanedText  \n",
       "0  witti littl book make son laugh loud recit car...  \n",
       "1  rememb see show air televis year ago child sis...  \n",
       "2  beetlejuic well written movi everyth act speci...  "
      ]
     },
     "execution_count": 6,
     "metadata": {},
     "output_type": "execute_result"
    }
   ],
   "source": [
    "data[\"Time\"] = pd.to_datetime(data[\"Time\"], unit = \"ms\")\n",
    "data = data.sort_values(by = \"Time\")\n",
    "data.head(3)"
   ]
  },
  {
   "cell_type": "code",
   "execution_count": 7,
   "metadata": {},
   "outputs": [
    {
     "data": {
      "text/plain": [
       "60000"
      ]
     },
     "execution_count": 7,
     "metadata": {},
     "output_type": "execute_result"
    }
   ],
   "source": [
    "#latest 60k points according to time\n",
    "data= data[:60000]\n",
    "len(data)"
   ]
  },
  {
   "cell_type": "markdown",
   "metadata": {},
   "source": [
    "## Splitting data into train60% cv20% test20%\n",
    "\n",
    "Splitting our data into train, cross validation data and test data.\n",
    "* train data will train our ML model\n",
    "* cross validataion data will be for determining our hyperparameter\n",
    "* test data will tell how Generalized our model is\n",
    "* dataframes after splitting:- traindata, cvdata, testdata"
   ]
  },
  {
   "cell_type": "code",
   "execution_count": 8,
   "metadata": {},
   "outputs": [
    {
     "name": "stdout",
     "output_type": "stream",
     "text": [
      "36000 12000 12000\n"
     ]
    }
   ],
   "source": [
    "tr, testdata= train_test_split(data, test_size= 0.2, shuffle= False,stratify= None)\n",
    "traindata, cvdata= train_test_split(tr, test_size= 0.25, shuffle=False,stratify= None)\n",
    "print(len(traindata),len(testdata),len(cvdata))"
   ]
  },
  {
   "cell_type": "markdown",
   "metadata": {},
   "source": [
    "Taking Text and score(class) as sequences\n",
    "* traindata -> Xtrain, Ytrain\n",
    "* cvdata -> Xcv, Ycv\n",
    "* testdata -> Xtest, Ytest"
   ]
  },
  {
   "cell_type": "code",
   "execution_count": 9,
   "metadata": {},
   "outputs": [],
   "source": [
    "Xtrain,Xcv,Xtest= traindata['CleanedText'],cvdata['CleanedText'],testdata['CleanedText']\n",
    "Ytrain,Ycv,Ytest= traindata['Score'],cvdata['Score'],testdata['Score']"
   ]
  },
  {
   "cell_type": "markdown",
   "metadata": {},
   "source": [
    "***\n",
    "# BOW Vectorization\n",
    "Bow vectorization is basic technique to convert a text into numerical vector.\n",
    "* We will build a model on train text using fit-transform\n",
    "* Then transform (test and cv) text on model build by train text\n",
    "* Transformed data will be in the form of sparse matrix"
   ]
  },
  {
   "cell_type": "code",
   "execution_count": 10,
   "metadata": {},
   "outputs": [],
   "source": [
    "# vectorizing X and transforming\n",
    "bowModel=CountVectorizer()\n",
    "XtrainV=bowModel.fit_transform(Xtrain.values)"
   ]
  },
  {
   "cell_type": "code",
   "execution_count": 11,
   "metadata": {},
   "outputs": [
    {
     "data": {
      "text/plain": [
       "(12000, 27530)"
      ]
     },
     "execution_count": 11,
     "metadata": {},
     "output_type": "execute_result"
    }
   ],
   "source": [
    "XcvV= bowModel.transform(Xcv)\n",
    "XtestV= bowModel.transform(Xtest)\n",
    "XtestV.shape"
   ]
  },
  {
   "cell_type": "markdown",
   "metadata": {},
   "source": [
    "Dumping sparse vectors for sustainable use"
   ]
  },
  {
   "cell_type": "code",
   "execution_count": 12,
   "metadata": {},
   "outputs": [],
   "source": [
    "import pickle\n",
    "with open('BowVectors.pkl','wb') as i:\n",
    "    pickle.dump(XtrainV,i)\n",
    "    pickle.dump(XcvV,i)\n",
    "    pickle.dump(XtestV,i)\n",
    "i.close()"
   ]
  },
  {
   "cell_type": "markdown",
   "metadata": {},
   "source": [
    "Standardizing the vectors"
   ]
  },
  {
   "cell_type": "code",
   "execution_count": null,
   "metadata": {},
   "outputs": [],
   "source": [
    "#Standardizing the vector\n",
    "std = StandardScaler(with_mean=False).fit(XtrainV)\n",
    "XtrainV = std.transform(XtrainV)\n",
    "XtestV = std.transform(XtestV)\n",
    "XcvV = std.transform(XcvV)"
   ]
  },
  {
   "cell_type": "markdown",
   "metadata": {},
   "source": [
    "So our our Bow vectors are XtrainV, XtestV, XcvV\n",
    "\n",
    "Converting Class of 'Positive','Negative'  to  1 0 numerical represention"
   ]
  },
  {
   "cell_type": "code",
   "execution_count": 14,
   "metadata": {},
   "outputs": [],
   "source": [
    "Ytrain=Ytrain.map(lambda x:1 if x=='Positive' else 0)\n",
    "Ycv=Ycv.map(lambda x:1 if x=='Positive' else 0)\n",
    "Ytest=Ytest.map(lambda x:1 if x=='Positive' else 0)"
   ]
  },
  {
   "cell_type": "markdown",
   "metadata": {},
   "source": [
    "## KNN - Bruteforce on BOW vector\n",
    "We will apply KNN's bruteforce algorithm for classifying our dataset\n",
    "* First we will make function to determine optimum 'k' using bruteforce\n",
    "* this function will be used frequently.\n",
    "* For determining 'k' we need to have a metric on which we will calculate k\n",
    "* So to choose a metric first we have to check if our dataset is *balanced or \n",
    "  imbalanced*"
   ]
  },
  {
   "cell_type": "code",
   "execution_count": 15,
   "metadata": {},
   "outputs": [
    {
     "name": "stdout",
     "output_type": "stream",
     "text": [
      "8.125475285171103\n"
     ]
    }
   ],
   "source": [
    "print(len(Ytrain[Ytrain==1])/len(Ytrain[Ytrain==0]))"
   ]
  },
  {
   "cell_type": "markdown",
   "metadata": {},
   "source": [
    "So we can clearly see that 'Positive' points are 8 times larger in number than 'Negative'\n",
    "points. Hence this is *highly imbalanced dataset*\n",
    "\n",
    "In this case simple acuracy can't be good metric as it wont work on imbalanced dataset.\n",
    "Fundamental metrics:-\n",
    "* **TP** True positive points count **TN** True negative points count\n",
    "* **FP** False positive points count **FN** False negative points count\n",
    "\n",
    "For imbalanced datasets we can use advanced metrics like:-\n",
    "* **Precision** TP/(TP+FP)\n",
    "* **Recall** TP/(TP+FN)\n",
    "* **F1 Score** - harmonic mean of precision and recall\n",
    "* **ROC-AUC Score** - reciver operating characteristic\n",
    "* **Confusion Matrix**\n",
    "### Taking F1 Score as our Metric \n",
    "When there are more positive points are there in dataset then **F1 Score** metric is \n",
    "more preferable. Because it mantains good *balance* between precision and recall \n",
    "\n",
    "Now we will make function **k_classifier_brute** which will return optimal k when passed\n",
    "in arguments are train and cross validate data. Optimal k will be calculated on **F1 Score**\n",
    "metric."
   ]
  },
  {
   "cell_type": "code",
   "execution_count": 29,
   "metadata": {},
   "outputs": [],
   "source": [
    "from sklearn.metrics import f1_score\n",
    "def k_classifier_brute(xtrain, ytrain, xcv, ycv):\n",
    "    '''\n",
    "    This function will return optimal k along with misclassification error vs\n",
    "    K curve. k will be calculated on cv data\n",
    "    '''\n",
    "    # creating odd list of K for KNN\n",
    "    myList = list(range(0,50))\n",
    "    neighbors = list(filter(lambda x: x % 2 != 0, myList))\n",
    "\n",
    "    f1_scores=[]\n",
    "    # performing for different k\n",
    "    for k in neighbors:\n",
    "        knn = KNeighborsClassifier(n_neighbors=k, algorithm = \"brute\")\n",
    "        knn.fit(xtrain,ytrain)\n",
    "        pred= knn.predict(xcv)\n",
    "        acc = f1_score(ycv, pred)\n",
    "        f1_scores.append(acc)\n",
    "\n",
    "    # changing to misclassification error\n",
    "    MSE = [1 - x for x in f1_scores]\n",
    "\n",
    "    # determining best k\n",
    "    optimal_k = neighbors[MSE.index(min(MSE))]\n",
    "    print('\\nThe optimal number of neighbors is %d.' % optimal_k)\n",
    "\n",
    "    # plot misclassification error vs k \n",
    "    plt.plot(neighbors, MSE)\n",
    "\n",
    "    for xy in zip(neighbors, np.round(MSE,3)):\n",
    "        plt.annotate('(%s, %s)' % xy, xy=xy, textcoords='data')\n",
    "    plt.title(\"misclassification Error vs K\")\n",
    "    plt.xlabel('Number of Neighbors K')\n",
    "    plt.ylabel('misclassification Error')\n",
    "    plt.show()\n",
    "    print(\"the misclassification error for each k value is : \", np.round(MSE,3))\n",
    "    print('With f1_score as ',max(f1_scores))\n",
    "    return optimal_k"
   ]
  },
  {
   "cell_type": "markdown",
   "metadata": {},
   "source": [
    "Finding Optimal 'k' using CV data"
   ]
  },
  {
   "cell_type": "code",
   "execution_count": 30,
   "metadata": {},
   "outputs": [
    {
     "name": "stdout",
     "output_type": "stream",
     "text": [
      "\n",
      "The optimal number of neighbors is 7.\n"
     ]
    },
    {
     "data": {
      "image/png": "[encoded data removed]",
      "text/plain": [
       "<Figure size 432x288 with 1 Axes>"
      ]
     },
     "metadata": {},
     "output_type": "display_data"
    },
    {
     "name": "stdout",
     "output_type": "stream",
     "text": [
      "the misclassification error for each k value is :  [0.092 0.067 0.063 0.062 0.062 0.062 0.062 0.062 0.063 0.063 0.063 0.063\n",
      " 0.063 0.063 0.063 0.063 0.063 0.063 0.063 0.063 0.063 0.063 0.063 0.063\n",
      " 0.063]\n",
      "With f1_score as  0.9383780899875511\n"
     ]
    }
   ],
   "source": [
    "# Calling function for optimum k and assigning it to k\n",
    "k=k_classifier_brute(XtrainV,Ytrain,XcvV,Ycv)"
   ]
  },
  {
   "cell_type": "markdown",
   "metadata": {},
   "source": [
    "#### Using this optimal 'k' to train our model.\n",
    "using brute algorithm.\n",
    "predicting out test datapoints."
   ]
  },
  {
   "cell_type": "code",
   "execution_count": 31,
   "metadata": {},
   "outputs": [],
   "source": [
    "knn= KNeighborsClassifier(n_neighbors=k,algorithm='brute')\n",
    "knn.fit(XtrainV,Ytrain)\n",
    "pred= knn.predict(XtestV)"
   ]
  },
  {
   "cell_type": "code",
   "execution_count": 32,
   "metadata": {
    "scrolled": true
   },
   "outputs": [
    {
     "name": "stdout",
     "output_type": "stream",
     "text": [
      "f1_score of Test data is  0.9347235218108095\n"
     ]
    },
    {
     "data": {
      "image/png": "[encoded data removed]",
      "text/plain": [
       "<Figure size 432x288 with 2 Axes>"
      ]
     },
     "metadata": {},
     "output_type": "display_data"
    }
   ],
   "source": [
    "from sklearn.metrics import confusion_matrix\n",
    "cfm= confusion_matrix(Ytest,pred)\n",
    "df_cm = pd.DataFrame(cfm, columns = ['Real Positive','Real Negative']\\\n",
    "                     ,index = ['Pred Positive','Pred Negative'])\n",
    "plt.title('Confusion Matrix for test data')\n",
    "sns.heatmap(df_cm, annot=True)\n",
    "print('f1_score of Test data is ',f1_score(Ytest,pred))"
   ]
  },
  {
   "cell_type": "markdown",
   "metadata": {},
   "source": [
    "## KNN kd-tree on BOW vector\n",
    "Kd-tree becomes very time expensive when the dimensionality of data increases. So\n",
    "before feeding our data in kd-tree we will:-\n",
    "* Reduce the dimensionality of data, using TruncatedSVD\n",
    "* Standardize our data"
   ]
  },
  {
   "cell_type": "code",
   "execution_count": 34,
   "metadata": {},
   "outputs": [],
   "source": [
    "from sklearn.decomposition import TruncatedSVD\n",
    "model=TruncatedSVD(n_components=1500)\n",
    "XtrainVd=model.fit_transform(XtrainV)\n",
    "XtestVd= model.transform(XtestV)\n",
    "XcvVd= model.transform(XcvV)"
   ]
  },
  {
   "cell_type": "code",
   "execution_count": 35,
   "metadata": {},
   "outputs": [],
   "source": [
    "from sklearn.preprocessing import StandardScaler\n",
    "std=StandardScaler(with_mean=False)\n",
    "XtrainVd = std.fit_transform(XtrainVd)\n",
    "XtestVd = std.transform(XtestVd)\n",
    "XcvVd = std.transform(XcvVd)"
   ]
  },
  {
   "cell_type": "markdown",
   "metadata": {},
   "source": [
    "Feeding data in knn kdtree model"
   ]
  },
  {
   "cell_type": "code",
   "execution_count": 36,
   "metadata": {},
   "outputs": [],
   "source": [
    "# training and running kdtree model\n",
    "knn = KNeighborsClassifier(n_neighbors=k, algorithm = \"kd_tree\")\n",
    "knn.fit(XtrainVd,Ytrain)\n",
    "pred= knn.predict(XtestVd)"
   ]
  },
  {
   "cell_type": "code",
   "execution_count": 37,
   "metadata": {
    "scrolled": true
   },
   "outputs": [
    {
     "name": "stdout",
     "output_type": "stream",
     "text": [
      "f1_score of Test data is  0.9345644319550381\n"
     ]
    },
    {
     "data": {
      "image/png": "[encoded data removed]",
      "text/plain": [
       "<Figure size 432x288 with 2 Axes>"
      ]
     },
     "metadata": {},
     "output_type": "display_data"
    }
   ],
   "source": [
    "cfm= confusion_matrix(Ytest,pred)\n",
    "df_cm = pd.DataFrame(cfm, columns = ['Real Positive','Real Negative']\\\n",
    "                     ,index = ['Pred Positive','Pred Negative'])\n",
    "plt.title('Confusion Matrix for test data')\n",
    "sns.heatmap(df_cm, annot=True)\n",
    "print('f1_score of Test data is ',f1_score(Ytest,pred))"
   ]
  },
  {
   "cell_type": "markdown",
   "metadata": {},
   "source": [
    "### Observation:-\n",
    "1. Opimal K is 7\n",
    "2. CV score(F1_score) is 93.83 with CV error of 6.17\n",
    "3. Testdata's F1_score of bruteforce is 93.47\n",
    "4. Testdata's F1_score of kd_tree is 93.45"
   ]
  },
  {
   "cell_type": "markdown",
   "metadata": {},
   "source": [
    "***\n",
    "# TFIDF vectorization\n",
    "\n",
    "* We will build a model on train text using fit-transform\n",
    "* Then transform (test and cv) text on model build by train text\n",
    "* Transformed data will be in the form of sparse matrix\n",
    "* Then Standardize our data"
   ]
  },
  {
   "cell_type": "code",
   "execution_count": 38,
   "metadata": {},
   "outputs": [],
   "source": [
    "# generating vetor out of text using tfidf\n",
    "model=TfidfVectorizer(max_features=2000,min_df=50)\n",
    "XtrainV= model.fit_transform(Xtrain)\n",
    "XtestV= model.transform(Xtest)\n",
    "XcvV= model.transform(Xcv)"
   ]
  },
  {
   "cell_type": "code",
   "execution_count": 39,
   "metadata": {},
   "outputs": [],
   "source": [
    "std= StandardScaler(with_mean=False)\n",
    "XtrainV = std.fit_transform(XtrainV)\n",
    "XtestV = std.transform(XtestV)\n",
    "XcvV = std.transform(XcvV)"
   ]
  },
  {
   "cell_type": "markdown",
   "metadata": {},
   "source": [
    "Saving data for sustainable use"
   ]
  },
  {
   "cell_type": "code",
   "execution_count": 40,
   "metadata": {},
   "outputs": [],
   "source": [
    "import pickle\n",
    "with open('TFIDFVectors.pkl','wb') as i:\n",
    "    pickle.dump(XtrainV,i)\n",
    "    pickle.dump(XcvV,i)\n",
    "    pickle.dump(XtestV,i)\n",
    "i.close()"
   ]
  },
  {
   "cell_type": "markdown",
   "metadata": {},
   "source": [
    "Feeding data in k_classifier_brute() to get optimal 'k'"
   ]
  },
  {
   "cell_type": "code",
   "execution_count": 41,
   "metadata": {},
   "outputs": [
    {
     "name": "stdout",
     "output_type": "stream",
     "text": [
      "\n",
      "The optimal number of neighbors is 5.\n"
     ]
    },
    {
     "data": {
      "image/png": "[encoded data removed]",
      "text/plain": [
       "<Figure size 432x288 with 1 Axes>"
      ]
     },
     "metadata": {},
     "output_type": "display_data"
    },
    {
     "name": "stdout",
     "output_type": "stream",
     "text": [
      "the misclassification error for each k value is :  [0.074 0.064 0.062 0.063 0.063 0.063 0.063 0.063 0.063 0.063 0.063 0.063\n",
      " 0.063 0.063 0.063 0.063 0.063 0.063 0.063 0.063 0.063 0.063 0.063 0.063\n",
      " 0.063]\n",
      "With f1_score as  0.9375499689082349\n"
     ]
    }
   ],
   "source": [
    "k= k_classifier_brute(XtrainV,Ytrain,XcvV,Ycv)"
   ]
  },
  {
   "cell_type": "markdown",
   "metadata": {},
   "source": [
    "## Knn bruteforce on Tfidf vect\n",
    "\n",
    "Training knn bruteborce on optimal 'k'"
   ]
  },
  {
   "cell_type": "code",
   "execution_count": 42,
   "metadata": {},
   "outputs": [],
   "source": [
    "knn= KNeighborsClassifier(n_neighbors=k,algorithm='brute')\n",
    "knn.fit(XtrainV,Ytrain)\n",
    "pred= knn.predict(XtestV)"
   ]
  },
  {
   "cell_type": "code",
   "execution_count": 43,
   "metadata": {},
   "outputs": [
    {
     "name": "stdout",
     "output_type": "stream",
     "text": [
      "f1_score of Test data is  0.9340815962943168\n"
     ]
    },
    {
     "data": {
      "image/png": "[encoded data removed]",
      "text/plain": [
       "<Figure size 432x288 with 2 Axes>"
      ]
     },
     "metadata": {},
     "output_type": "display_data"
    }
   ],
   "source": [
    "cfm= confusion_matrix(Ytest,pred)\n",
    "df_cm = pd.DataFrame(cfm, columns = ['Real Positive','Real Negative']\\\n",
    "                     ,index = ['Pred Positive','Pred Negative'])\n",
    "plt.title('Confusion Matrix for test data')\n",
    "sns.heatmap(df_cm, annot=True)\n",
    "print('f1_score of Test data is ',f1_score(Ytest,pred))"
   ]
  },
  {
   "cell_type": "markdown",
   "metadata": {},
   "source": [
    "## KNN Kdtree on TFIDF vector"
   ]
  },
  {
   "cell_type": "code",
   "execution_count": 44,
   "metadata": {},
   "outputs": [],
   "source": [
    "# converting to dense matrix\n",
    "XtrainVd= XtrainV.todense()\n",
    "XtestVd= XtestV.todense()\n",
    "XcvVd= XcvV.todense()"
   ]
  },
  {
   "cell_type": "code",
   "execution_count": 45,
   "metadata": {},
   "outputs": [],
   "source": [
    "# training using kd_tree\n",
    "knn = KNeighborsClassifier(n_neighbors=k, algorithm = \"kd_tree\")\n",
    "knn.fit(XtrainVd,Ytrain)\n",
    "pred= knn.predict(XtestVd)"
   ]
  },
  {
   "cell_type": "code",
   "execution_count": 46,
   "metadata": {},
   "outputs": [
    {
     "name": "stdout",
     "output_type": "stream",
     "text": [
      "f1_score of Test data is  0.9340815962943168\n"
     ]
    },
    {
     "data": {
      "image/png": "[encoded data removed]",
      "text/plain": [
       "<Figure size 432x288 with 2 Axes>"
      ]
     },
     "metadata": {},
     "output_type": "display_data"
    }
   ],
   "source": [
    "cfm= confusion_matrix(Ytest,pred)\n",
    "df_cm = pd.DataFrame(cfm, columns = ['Real Positive','Real Negative']\\\n",
    "                     ,index = ['Pred Positive','Pred Negative'])\n",
    "plt.title('Confusion Matrix for test data')\n",
    "sns.heatmap(df_cm, annot=True)\n",
    "print('f1_score of Test data is ',f1_score(Ytest,pred))"
   ]
  },
  {
   "cell_type": "markdown",
   "metadata": {},
   "source": [
    "### Observation:-\n",
    "1. Opimal K is 5\n",
    "2. CV score(F1_score) is 93.75 with CV error of 6.25\n",
    "3. Testdata's F1_score of bruteforce is 93.40\n",
    "4. Testdata's F1_score of kd_tree is 93.40"
   ]
  },
  {
   "cell_type": "markdown",
   "metadata": {},
   "source": [
    "***\n",
    "#  w2v Vectorization\n",
    "* First we will Train gensim model on traindata text\n",
    "* Build sentance vectors using average w2v and gensim \n",
    "* **w2v_model** is our gensim model on train data\n",
    "* **w2v_words** is our gensim word vocabulary on train data"
   ]
  },
  {
   "cell_type": "code",
   "execution_count": 47,
   "metadata": {},
   "outputs": [
    {
     "name": "stdout",
     "output_type": "stream",
     "text": [
      "7741\n"
     ]
    }
   ],
   "source": [
    "# training our gensim model on our train text\n",
    "import re\n",
    "import string\n",
    "def cleanhtml(sentance): #substitute expression contained in <> with ' '\n",
    "    cleaned= re.sub(re.compile('<.*?>'),' ',sentance)\n",
    "    return cleaned\n",
    "#function for removing punctuations chars\n",
    "def cleanpunc(sentance):\n",
    "    cleaned= re.sub(r'[?|!|\\'|\"|#]',r'',sentance)\n",
    "    cleaned= re.sub(r'[.|,|)|(|\\|/]',r'',sentance)\n",
    "    return cleaned\n",
    "i=0\n",
    "lists=[]\n",
    "\n",
    "for sent in traindata['CleanedText'].values:\n",
    "    filtered_sentence=[]\n",
    "    sent=cleanhtml(sent)\n",
    "    for w in sent.split():\n",
    "        for cleaned_words in cleanpunc(w).split():\n",
    "            if(cleaned_words.isalpha()):\n",
    "                filtered_sentence.append(cleaned_words.lower())\n",
    "            else:\n",
    "                continue\n",
    "    lists.append(filtered_sentence)\n",
    "\n",
    "\n",
    "w2v_model= gensim.models.Word2Vec(lists,min_count=5,size=50,workers=4)\n",
    "print(len(list(w2v_model.wv.vocab)))"
   ]
  },
  {
   "cell_type": "code",
   "execution_count": 48,
   "metadata": {},
   "outputs": [],
   "source": [
    "w2v_words = list(w2v_model.wv.vocab)"
   ]
  },
  {
   "cell_type": "markdown",
   "metadata": {},
   "source": [
    "This function(**w2vVect**) will recive list of sentances (reviews here) and convert that into\n",
    "vector using *average w2v* vectorization. Finally return list of numerical vectors\n",
    "corresponding to text sentances\n",
    "* after this we will feed our train, text, cv data in w2vVect() and get corresponding\n",
    "  w2v vectorized sentances\n",
    "* vocabulary,w2v_model was trained on training data only"
   ]
  },
  {
   "cell_type": "code",
   "execution_count": 52,
   "metadata": {},
   "outputs": [],
   "source": [
    "# converting list of sentance into list of list of words\n",
    "# then to vector using avg w2v\n",
    "# function to convert list of list of words to vect using avg w2v\n",
    "def w2vVect(X):\n",
    "    '''\n",
    "    This function takes list of sentance as input (X) and convert it into \n",
    "    list of list of words and then feed it into our gensim model to get vector\n",
    "    and then take its average, finally returns sent_vectors(vector of sentance)\n",
    "    *************GENSIM MODEL WAS TRAINED ON TRAINDATA***************\n",
    "    '''\n",
    "\n",
    "    lists=[]\n",
    "    for sent in X.values:\n",
    "        filtered_sentence=[]\n",
    "        sent=cleanhtml(sent)\n",
    "        for w in sent.split():\n",
    "            for cleaned_words in cleanpunc(w).split():\n",
    "                if(cleaned_words.isalpha()):\n",
    "                    filtered_sentence.append(cleaned_words.lower())\n",
    "                else:\n",
    "                    continue\n",
    "        lists.append(filtered_sentence)\n",
    "\n",
    "    sent_vectors = []; \n",
    "    for sent in lists: \n",
    "        sent_vec = np.zeros(50) \n",
    "        cnt_words =0;\n",
    "        for word in sent: \n",
    "            if word in w2v_words:\n",
    "                vec = w2v_model.wv[word]\n",
    "                sent_vec += vec\n",
    "                cnt_words += 1\n",
    "        if cnt_words != 0:\n",
    "            sent_vec /= cnt_words\n",
    "        sent_vectors.append(sent_vec)\n",
    "    return sent_vectors"
   ]
  },
  {
   "cell_type": "code",
   "execution_count": 53,
   "metadata": {},
   "outputs": [],
   "source": [
    "# Vectorizing our data\n",
    "XtrainV= w2vVect(Xtrain)\n",
    "XtestV= w2vVect(Xtest)\n",
    "XcvV= w2vVect(Xcv)"
   ]
  },
  {
   "cell_type": "markdown",
   "metadata": {},
   "source": [
    "Saving our data for sustainable use"
   ]
  },
  {
   "cell_type": "code",
   "execution_count": 54,
   "metadata": {},
   "outputs": [],
   "source": [
    "import pickle\n",
    "with open('W2VVectors.pkl','wb') as i:\n",
    "    pickle.dump(XtrainV,i)\n",
    "    pickle.dump(XcvV,i)\n",
    "    pickle.dump(XtestV,i)\n",
    "i.close()"
   ]
  },
  {
   "cell_type": "code",
   "execution_count": 55,
   "metadata": {},
   "outputs": [
    {
     "name": "stdout",
     "output_type": "stream",
     "text": [
      "36000 12000 12000\n",
      "[ 0.11496643  0.21575583 -0.10025281  0.40054248 -0.07506769 -0.24810115\n",
      " -0.01198531  0.24205157  0.25574244 -0.31292871 -0.41015361 -0.13356018\n",
      " -0.12828043  0.37273438 -0.69870188  0.21488369 -0.07629116 -0.24176444\n",
      " -0.40725511 -0.24324185 -0.45485452 -0.39509548  0.14335891  0.28379194\n",
      "  0.06037044  0.28245135 -0.18741142 -0.1557784  -0.5022352   0.05213045\n",
      " -0.42250781  0.0188486   0.11458139  0.04087626 -0.20831408 -0.31209331\n",
      "  0.41352587  0.19958171  0.18551075  0.50416246 -0.47969187  0.25603239\n",
      "  0.2786916  -0.21661689  0.18634739  0.78883786 -0.00635821  0.46090076\n",
      " -0.08376825 -0.16584848]\n"
     ]
    }
   ],
   "source": [
    "print(len(XtrainV),len(XtestV),len(XcvV))\n",
    "print(XtrainV[0])"
   ]
  },
  {
   "cell_type": "markdown",
   "metadata": {},
   "source": [
    "## KNN bruteforce on w2v\n",
    "* First get optimal 'k'\n",
    "* then apply knn bruteforce "
   ]
  },
  {
   "cell_type": "code",
   "execution_count": 56,
   "metadata": {},
   "outputs": [
    {
     "name": "stdout",
     "output_type": "stream",
     "text": [
      "\n",
      "The optimal number of neighbors is 15.\n"
     ]
    },
    {
     "data": {
      "image/png": "[encoded data removed]",
      "text/plain": [
       "<Figure size 432x288 with 1 Axes>"
      ]
     },
     "metadata": {},
     "output_type": "display_data"
    },
    {
     "name": "stdout",
     "output_type": "stream",
     "text": [
      "the misclassification error for each k value is :  [0.084 0.066 0.062 0.059 0.058 0.058 0.059 0.058 0.058 0.058 0.058 0.058\n",
      " 0.058 0.058 0.058 0.058 0.058 0.059 0.059 0.058 0.059 0.058 0.059 0.058\n",
      " 0.058]\n",
      "With f1_score as  0.9420322392348794\n"
     ]
    }
   ],
   "source": [
    "k= k_classifier_brute(XtrainV,Ytrain,XcvV,Ycv)"
   ]
  },
  {
   "cell_type": "code",
   "execution_count": 57,
   "metadata": {},
   "outputs": [],
   "source": [
    "knn= KNeighborsClassifier(n_neighbors=k,algorithm='brute')\n",
    "knn.fit(XtrainV,Ytrain)\n",
    "pred= knn.predict(XtestV)"
   ]
  },
  {
   "cell_type": "code",
   "execution_count": 58,
   "metadata": {},
   "outputs": [
    {
     "name": "stdout",
     "output_type": "stream",
     "text": [
      "f1_score of Test data is  0.9369951534733442\n"
     ]
    },
    {
     "data": {
      "image/png": "[encoded data removed]",
      "text/plain": [
       "<Figure size 432x288 with 2 Axes>"
      ]
     },
     "metadata": {},
     "output_type": "display_data"
    }
   ],
   "source": [
    "cfm= confusion_matrix(Ytest,pred)\n",
    "df_cm = pd.DataFrame(cfm, columns = ['Real Positive','Real Negative']\\\n",
    "                     ,index = ['Pred Positive','Pred Negative'])\n",
    "plt.title('Confusion Matrix for test data')\n",
    "sns.heatmap(df_cm, annot=True)\n",
    "print('f1_score of Test data is ',f1_score(Ytest,pred))"
   ]
  },
  {
   "cell_type": "markdown",
   "metadata": {},
   "source": [
    "## KNN Kd-tree on w2v"
   ]
  },
  {
   "cell_type": "code",
   "execution_count": 59,
   "metadata": {},
   "outputs": [],
   "source": [
    "knn= KNeighborsClassifier(n_neighbors=k,algorithm='kd_tree')\n",
    "knn.fit(XtrainV,Ytrain)\n",
    "pred= knn.predict(XtestV)"
   ]
  },
  {
   "cell_type": "code",
   "execution_count": 60,
   "metadata": {},
   "outputs": [
    {
     "name": "stdout",
     "output_type": "stream",
     "text": [
      "f1_score of Test data is  0.9369951534733442\n"
     ]
    },
    {
     "data": {
      "image/png": "[encoded data removed]",
      "text/plain": [
       "<Figure size 432x288 with 2 Axes>"
      ]
     },
     "metadata": {},
     "output_type": "display_data"
    }
   ],
   "source": [
    "cfm= confusion_matrix(Ytest,pred)\n",
    "df_cm = pd.DataFrame(cfm, columns = ['Real Positive','Real Negative']\\\n",
    "                     ,index = ['Pred Positive','Pred Negative'])\n",
    "plt.title('Confusion Matrix for test data')\n",
    "sns.heatmap(df_cm, annot=True)\n",
    "print('f1_score of Test data is ',f1_score(Ytest,pred))"
   ]
  },
  {
   "cell_type": "markdown",
   "metadata": {},
   "source": [
    "### Observation:-\n",
    "1. Opimal K is 15\n",
    "2. CV score(F1_score) is 94.20 with CV error of 5.80\n",
    "3. Testdata's F1_score of bruteforce is 93.69\n",
    "4. Testdata's F1_score of kd_tree is 93.69"
   ]
  },
  {
   "cell_type": "markdown",
   "metadata": {},
   "source": [
    "***\n",
    "#  Tfidf-avg-w2v Vectorization\n",
    "This is an advancement to w2v vectorization. In this we multiply the tfidf value and w2v\n",
    "value of each word in sentance and do averaging\n",
    "* Train tfidf and w2v model on train data\n",
    "* Make dictionary of vocabulary in which each word is a key and value is tfidf value\n",
    "  of that word"
   ]
  },
  {
   "cell_type": "code",
   "execution_count": 111,
   "metadata": {},
   "outputs": [],
   "source": [
    "model=TfidfVectorizer(max_features=2000)\n",
    "tf_idf_matrix = model.fit_transform(Xtrain.values)\n",
    "tfidf_feat=model.get_feature_names()\n",
    "dictionary = {k:v for (k,v) in zip(model.get_feature_names(), list(model.idf_))}"
   ]
  },
  {
   "cell_type": "markdown",
   "metadata": {},
   "source": [
    "The function (**tfidfw2vVect**) will recive list of text sentance and convert it \n",
    "into list of vectors using TFIDF-avg-w2v vectorization process.\n",
    "* after this we will feed our train, text, cv data in tfidfw2vVect() and get corresponding\n",
    "  tfidfw2v vectorized sentances\n",
    "* vocabulary,w2v_model,tfidf was trained on training data only"
   ]
  },
  {
   "cell_type": "code",
   "execution_count": 115,
   "metadata": {},
   "outputs": [],
   "source": [
    "def tfidfw2vVect(X):\n",
    "    '''\n",
    "    This function converts list of sentance into list of list of words and then \n",
    "    finally applies average-tfidf-w2w to get final sentance vector\n",
    "    w2v model and w2v words already made during w2v vectorization part \n",
    "    '''\n",
    "    lists=[]\n",
    "    for sent in X.values:\n",
    "        filtered_sentence=[]\n",
    "        sent=cleanhtml(sent)\n",
    "        for w in sent.split():\n",
    "            for cleaned_words in cleanpunc(w).split():\n",
    "                if(cleaned_words.isalpha()):\n",
    "                    filtered_sentence.append(cleaned_words.lower())\n",
    "                else:\n",
    "                    continue\n",
    "        lists.append(filtered_sentence)\n",
    "        \n",
    "    tfidf_sent_vectors = []; # the tfidf-w2v for each sentence/review is stored in this list\n",
    "    row=0;\n",
    "    for sent in lists: # for each review/sentence \n",
    "        sent_vec = np.zeros(50) # as word vectors are of zero length\n",
    "        weight_sum =0; # num of words with a valid vector in the sentence/review\n",
    "        for word in sent: # for each word in a review/sentence\n",
    "            try:\n",
    "                if word in w2v_words:\n",
    "                    vec = w2v_model.wv[word]\n",
    "                    #tf_idf = tf_idf_matrix[row, tfidf_feat.index(word)]\n",
    "                    #to reduce the computation we are \n",
    "                    #dictionary[word] = idf value of word in whole courpus\n",
    "                    #sent.count(word) = tf valeus of word in this review\n",
    "                    tf_idf = (dictionary[word])*((sent.count(word))/len(sent))\n",
    "                    sent_vec += (vec * tf_idf)\n",
    "                    weight_sum += tf_idf\n",
    "            except:\n",
    "                pass\n",
    "        if weight_sum != 0:\n",
    "            sent_vec /= weight_sum\n",
    "        tfidf_sent_vectors.append(sent_vec)\n",
    "        row += 1\n",
    "    # converting nan and infinte values in vect to digit\n",
    "    tfidf_sent_vectors= np.nan_to_num(tfidf_sent_vectors)\n",
    "    return tfidf_sent_vectors"
   ]
  },
  {
   "cell_type": "code",
   "execution_count": 116,
   "metadata": {},
   "outputs": [],
   "source": [
    "# feeding text data and recieving vectorized data\n",
    "XtrainV= tfidfw2vVect(Xtrain)\n",
    "XtestV= tfidfw2vVect(Xtest)\n",
    "XcvV= tfidfw2vVect(Xcv)"
   ]
  },
  {
   "cell_type": "code",
   "execution_count": 117,
   "metadata": {},
   "outputs": [
    {
     "data": {
      "text/plain": [
       "array([ 0.16363911,  0.32138804,  0.17515039,  0.24090501, -0.00249188,\n",
       "       -0.49882371, -0.1875781 ,  0.2897003 ,  0.482043  , -0.06329746,\n",
       "       -0.71696047, -0.2770102 ,  0.12991777,  0.42718397, -1.07288269,\n",
       "        0.49435643, -0.14185035, -0.12875395, -0.40426827, -0.09652584,\n",
       "       -0.71185575, -0.56733497,  0.12341449,  0.21259896,  0.05615327,\n",
       "        0.35141184, -0.80189985, -0.51499443, -0.61201957,  0.33656254,\n",
       "       -0.6635482 ,  0.37967336, -0.00748498,  0.01036834, -0.27573696,\n",
       "       -0.07499758,  0.4913544 ,  0.22101287,  0.13950133,  0.44244039,\n",
       "       -0.53403474,  0.40211393,  0.47660193, -0.35098124,  0.49883436,\n",
       "        0.53112405,  0.08664968,  0.79542032, -0.18145972,  0.11733449])"
      ]
     },
     "execution_count": 117,
     "metadata": {},
     "output_type": "execute_result"
    }
   ],
   "source": [
    "XtrainV[1]"
   ]
  },
  {
   "cell_type": "markdown",
   "metadata": {},
   "source": [
    "Storing data for sustainable use"
   ]
  },
  {
   "cell_type": "code",
   "execution_count": 118,
   "metadata": {},
   "outputs": [],
   "source": [
    "import pickle\n",
    "with open('tfidfw2vVectors.pkl','wb') as i:\n",
    "    pickle.dump(XtrainV,i)\n",
    "    pickle.dump(XcvV,i)\n",
    "    pickle.dump(XtestV,i)\n",
    "i.close()"
   ]
  },
  {
   "cell_type": "markdown",
   "metadata": {},
   "source": [
    "## KNN bruteforce on average tfidf-w2v  "
   ]
  },
  {
   "cell_type": "code",
   "execution_count": 119,
   "metadata": {},
   "outputs": [
    {
     "name": "stdout",
     "output_type": "stream",
     "text": [
      "\n",
      "The optimal number of neighbors is 19.\n"
     ]
    },
    {
     "data": {
      "image/png": "[encoded data removed]",
      "text/plain": [
       "<Figure size 432x288 with 1 Axes>"
      ]
     },
     "metadata": {},
     "output_type": "display_data"
    },
    {
     "name": "stdout",
     "output_type": "stream",
     "text": [
      "the misclassification error for each k value is :  [0.088 0.07  0.064 0.063 0.061 0.06  0.06  0.06  0.059 0.059 0.06  0.06\n",
      " 0.06  0.06  0.06  0.06  0.06  0.06  0.06  0.06  0.06  0.06  0.06  0.06\n",
      " 0.06 ]\n",
      "With f1_score as  0.9406131125531438\n"
     ]
    }
   ],
   "source": [
    "# calling for optimal k\n",
    "k= k_classifier_brute(XtrainV,Ytrain,XcvV,Ycv)"
   ]
  },
  {
   "cell_type": "markdown",
   "metadata": {},
   "source": [
    "Training our model on optimal k"
   ]
  },
  {
   "cell_type": "code",
   "execution_count": 120,
   "metadata": {},
   "outputs": [],
   "source": [
    "knn= KNeighborsClassifier(n_neighbors=k,algorithm='brute')\n",
    "knn.fit(XtrainV,Ytrain)\n",
    "pred= knn.predict(XtestV)"
   ]
  },
  {
   "cell_type": "code",
   "execution_count": 121,
   "metadata": {},
   "outputs": [
    {
     "name": "stdout",
     "output_type": "stream",
     "text": [
      "f1_score of Test data is  0.9360386992743887\n"
     ]
    },
    {
     "data": {
      "image/png": "[encoded data removed]",
      "text/plain": [
       "<Figure size 432x288 with 2 Axes>"
      ]
     },
     "metadata": {},
     "output_type": "display_data"
    }
   ],
   "source": [
    "cfm= confusion_matrix(Ytest,pred)\n",
    "df_cm = pd.DataFrame(cfm, columns = ['Real Positive','Real Negative']\\\n",
    "                     ,index = ['Pred Positive','Pred Negative'])\n",
    "plt.title('Confusion Matrix for test data')\n",
    "sns.heatmap(df_cm, annot=True)\n",
    "print('f1_score of Test data is ',f1_score(Ytest,pred))"
   ]
  },
  {
   "cell_type": "markdown",
   "metadata": {},
   "source": [
    "## KNN kd-tree on average tfidf-w2v"
   ]
  },
  {
   "cell_type": "code",
   "execution_count": 122,
   "metadata": {},
   "outputs": [],
   "source": [
    "knn= KNeighborsClassifier(n_neighbors=k,algorithm='kd_tree')\n",
    "knn.fit(XtrainV,Ytrain)\n",
    "pred= knn.predict(XtestV)"
   ]
  },
  {
   "cell_type": "code",
   "execution_count": 123,
   "metadata": {
    "scrolled": true
   },
   "outputs": [
    {
     "name": "stdout",
     "output_type": "stream",
     "text": [
      "f1_score of Test data is  0.9360386992743887\n"
     ]
    },
    {
     "data": {
      "image/png": "[encoded data removed]",
      "text/plain": [
       "<Figure size 432x288 with 2 Axes>"
      ]
     },
     "metadata": {},
     "output_type": "display_data"
    }
   ],
   "source": [
    "cfm= confusion_matrix(Ytest,pred)\n",
    "df_cm = pd.DataFrame(cfm, columns = ['Real Positive','Real Negative']\\\n",
    "                     ,index = ['Pred Positive','Pred Negative'])\n",
    "plt.title('Confusion Matrix for test data')\n",
    "sns.heatmap(df_cm, annot=True)\n",
    "print('f1_score of Test data is ',f1_score(Ytest,pred))"
   ]
  },
  {
   "cell_type": "markdown",
   "metadata": {},
   "source": [
    "### Observation:-\n",
    "1. Opimal K is 19\n",
    "2. CV score(F1_score) is 94.60 with CV error of 5.40\n",
    "3. Testdata's F1_score of bruteforce is 93.60\n",
    "4. Testdata's F1_score of kd_tree is 93.60"
   ]
  },
  {
   "cell_type": "markdown",
   "metadata": {},
   "source": [
    "***\n",
    "# <center>Summary</center>\n",
    "Vectorizer|Hyperparameter(K)|Bruteforce_F1_score|KD-tree_F1_score|CV_score\n",
    "---|---|---|---|---\n",
    "BOW|7|93.47|93.45|93.83\n",
    "TF-IDF|5|93.40|93.40|93.75\n",
    "Avg-W2V|15|93.69|93.69|94.60\n",
    "TF-IDF-avg-W2V|19|93.6|93.6|94.06"
   ]
  },
  {
   "cell_type": "code",
   "execution_count": null,
   "metadata": {},
   "outputs": [],
   "source": []
  }
 ],
 "metadata": {
  "kernelspec": {
   "display_name": "Python 3",
   "language": "python",
   "name": "python3"
  },
  "language_info": {
   "codemirror_mode": {
    "name": "ipython",
    "version": 3
   },
   "file_extension": ".py",
   "mimetype": "text/x-python",
   "name": "python",
   "nbconvert_exporter": "python",
   "pygments_lexer": "ipython3",
   "version": "3.6.5"
  },
  "notify_time": "5"
 },
 "nbformat": 4,
 "nbformat_minor": 2
}
