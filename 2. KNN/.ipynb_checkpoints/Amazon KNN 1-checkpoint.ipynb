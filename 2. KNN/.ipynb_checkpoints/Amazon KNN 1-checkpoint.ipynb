{
 "cells": [
  {
   "cell_type": "markdown",
   "metadata": {},
   "source": [
    "# Amazon Reviews Sentiment Prediction using KNN\n",
    "\n",
    "* Our task here is to give accuracy score of our classifier (KNN using 'bruteforce' &\n",
    "  'kd_tree') on different text to vector converted data. We also need to get optimal\n",
    "  k(nearest neigbors) for each\n",
    "* We are given here amazon reviews dataset. We will first convert all reviews text to vector\n",
    "  using different techniques like(bow, tfidf, average w2v, tfidf weighted average w2v).\n",
    "* After getting vector form of reviews we will fit these data in KNN classifier using two\n",
    "  different algorithms 'bruteforce' and 'kd_tree'"
   ]
  },
  {
   "cell_type": "code",
   "execution_count": 1,
   "metadata": {},
   "outputs": [],
   "source": [
    "#importing necessary packages\n",
    "import sqlite3\n",
    "import pandas as pd\n",
    "import numpy as np\n",
    "from sklearn.preprocessing import StandardScaler\n",
    "import matplotlib.pyplot as plt\n",
    "import seaborn as sns\n",
    "import nltk"
   ]
  },
  {
   "cell_type": "code",
   "execution_count": 2,
   "metadata": {},
   "outputs": [
    {
     "name": "stderr",
     "output_type": "stream",
     "text": [
      "C:\\Anaconda3\\lib\\site-packages\\gensim\\utils.py:1209: UserWarning: detected Windows; aliasing chunkize to chunkize_serial\n",
      "  warnings.warn(\"detected Windows; aliasing chunkize to chunkize_serial\")\n",
      "C:\\Anaconda3\\lib\\site-packages\\sklearn\\cross_validation.py:41: DeprecationWarning: This module was deprecated in version 0.18 in favor of the model_selection module into which all the refactored classes and functions are moved. Also note that the interface of the new CV iterators are different from that of this module. This module will be removed in 0.20.\n",
      "  \"This module will be removed in 0.20.\", DeprecationWarning)\n"
     ]
    }
   ],
   "source": [
    "from sklearn.feature_extraction.text import CountVectorizer\n",
    "import pickle\n",
    "from sklearn.feature_extraction.text import TfidfVectorizer\n",
    "import gensim\n",
    "import sklearn.cross_validation\n",
    "from sklearn.cross_validation import train_test_split"
   ]
  },
  {
   "cell_type": "code",
   "execution_count": 3,
   "metadata": {},
   "outputs": [
    {
     "data": {
      "text/plain": [
       "(364171, 11)"
      ]
     },
     "execution_count": 3,
     "metadata": {},
     "output_type": "execute_result"
    }
   ],
   "source": [
    "#After removing stopwords, punctuations, meaningless characters, HTML tags from Text \n",
    "#and done stemming. Using it directly as it was alredy done in prevoius assignment\n",
    "conn= sqlite3.connect('cleanedTextData.sqlite')\n",
    "data= pd.read_sql_query('''\n",
    "SELECT * FROM Reviews\n",
    "''',conn)\n",
    "data=data.drop('index',axis=1)\n",
    "data.shape"
   ]
  },
  {
   "cell_type": "code",
   "execution_count": 9,
   "metadata": {
    "scrolled": true
   },
   "outputs": [
    {
     "data": {
      "text/plain": [
       "Index(['Id', 'ProductId', 'UserId', 'ProfileName', 'HelpfulnessNumerator',\n",
       "       'HelpfulnessDenominator', 'Score', 'Time', 'Summary', 'Text',\n",
       "       'CleanedText'],\n",
       "      dtype='object')"
      ]
     },
     "execution_count": 9,
     "metadata": {},
     "output_type": "execute_result"
    }
   ],
   "source": [
    "data.columns"
   ]
  },
  {
   "cell_type": "markdown",
   "metadata": {},
   "source": [
    "## X & Y\n",
    "We only need our text and score vector.\n",
    "* Sampling 25k positive and 25k negative reviews\n",
    "* Sorting sampled data on the basis of 'Time' for Time based splitting"
   ]
  },
  {
   "cell_type": "code",
   "execution_count": 4,
   "metadata": {},
   "outputs": [],
   "source": [
    "data_pos = data[data[\"Score\"] == \"Positive\"].sample(n = 25000)\n",
    "data_neg = data[data[\"Score\"] == \"Negative\"].sample(n = 25000)\n",
    "data = pd.concat([data_pos, data_neg])\n",
    "data[\"Time\"] = pd.to_datetime(data[\"Time\"], unit = \"s\")\n",
    "data = data.sort_values(by = \"Time\")"
   ]
  },
  {
   "cell_type": "code",
   "execution_count": 6,
   "metadata": {},
   "outputs": [],
   "source": [
    "#X is text column and Y is class column\n",
    "X= data.iloc[:,10].copy() # 'Text array'\n",
    "Y= data.iloc[:,6].copy()  # 'class array'"
   ]
  },
  {
   "cell_type": "code",
   "execution_count": 8,
   "metadata": {},
   "outputs": [
    {
     "name": "stdout",
     "output_type": "stream",
     "text": [
      "(30000,) (10000,) (10000,)\n"
     ]
    }
   ],
   "source": [
    "Xtr,Xtest,Ytr,Ytest= train_test_split(X, Y, test_size = 0.2, random_state = 42)\n",
    "Xtrain,Xcv,Ytrain,Ycv= train_test_split(Xtr,Ytr, test_size = 0.25, random_state = 42)\n",
    "print(Xtrain.shape,Xcv.shape,Xtest.shape)"
   ]
  },
  {
   "cell_type": "markdown",
   "metadata": {},
   "source": [
    "# BOW "
   ]
  },
  {
   "cell_type": "code",
   "execution_count": 10,
   "metadata": {},
   "outputs": [],
   "source": [
    "# vectorizing X and transforming\n",
    "bowModel=CountVectorizer()\n",
    "XtrainV=bowModel.fit_transform(Xtrain.values)"
   ]
  },
  {
   "cell_type": "code",
   "execution_count": 11,
   "metadata": {},
   "outputs": [
    {
     "data": {
      "text/plain": [
       "(30000, 26361)"
      ]
     },
     "execution_count": 11,
     "metadata": {},
     "output_type": "execute_result"
    }
   ],
   "source": [
    "XtrainV.shape"
   ]
  },
  {
   "cell_type": "code",
   "execution_count": 12,
   "metadata": {},
   "outputs": [],
   "source": [
    "XtestV= bowModel.transform(Xtest)\n",
    "XcvV= bowModel.transform(Xcv)"
   ]
  },
  {
   "cell_type": "code",
   "execution_count": 13,
   "metadata": {},
   "outputs": [
    {
     "data": {
      "text/plain": [
       "(10000, 26361)"
      ]
     },
     "execution_count": 13,
     "metadata": {},
     "output_type": "execute_result"
    }
   ],
   "source": [
    "XtestV.shape"
   ]
  },
  {
   "cell_type": "code",
   "execution_count": null,
   "metadata": {},
   "outputs": [],
   "source": [
    "#Standardizing the vector\n",
    "from sklearn.preprocessing import StandardScaler\n",
    "XtrainV = StandardScaler(with_mean=False).fit_transform(XtrainV)\n",
    "XtestV = StandardScaler(with_mean=False).fit_transform(XtestV)\n",
    "XcvV = StandardScaler(with_mean=False).fit_transform(XcvV)"
   ]
  },
  {
   "cell_type": "code",
   "execution_count": 15,
   "metadata": {},
   "outputs": [],
   "source": [
    "from sklearn.cross_validation import train_test_split\n",
    "from sklearn.neighbors import KNeighborsClassifier\n",
    "from sklearn.metrics import accuracy_score\n",
    "from sklearn.cross_validation import cross_val_score\n",
    "from collections import Counter\n",
    "from sklearn.metrics import accuracy_score\n",
    "from sklearn import cross_validation"
   ]
  },
  {
   "cell_type": "markdown",
   "metadata": {},
   "source": [
    "## bow bruteforce"
   ]
  },
  {
   "cell_type": "code",
   "execution_count": 17,
   "metadata": {},
   "outputs": [],
   "source": [
    "# Function to compute optimum K for KNN using train and cv datapoint\n",
    "# We are using here bruteforce approach of KNN\n",
    "def k_classifier_brute(xtrain, ytrain, xcv, ycv):\n",
    "    # creating odd list of K for KNN\n",
    "    myList = list(range(0,50))\n",
    "    neighbors = list(filter(lambda x: x % 2 != 0, myList))\n",
    "\n",
    "    accuracy_scores=[]\n",
    "\n",
    "    # performing for different k\n",
    "    for k in neighbors:\n",
    "        knn = KNeighborsClassifier(n_neighbors=k, algorithm = \"brute\")\n",
    "        knn.fit(xtrain,ytrain)\n",
    "        pred= knn.predict(xcv)\n",
    "        acc = accuracy_score(ycv, pred, normalize=True)\n",
    "        accuracy_scores.append(acc)\n",
    "\n",
    "    # changing to misclassification error\n",
    "    MSE = [1 - x for x in accuracy_scores]\n",
    "\n",
    "    # determining best k\n",
    "    optimal_k = neighbors[MSE.index(min(MSE))]\n",
    "    print('\\nThe optimal number of neighbors is %d.' % optimal_k)\n",
    "\n",
    "    # plot misclassification error vs k \n",
    "    plt.plot(neighbors, MSE)\n",
    "\n",
    "    for xy in zip(neighbors, np.round(MSE,3)):\n",
    "        plt.annotate('(%s, %s)' % xy, xy=xy, textcoords='data')\n",
    "    plt.title(\"Misclassification Error vs K\")\n",
    "    plt.xlabel('Number of Neighbors K')\n",
    "    plt.ylabel('Misclassification Error')\n",
    "    plt.show()\n",
    "\n",
    "    print(\"the misclassification error for each k value is : \", np.round(MSE,3))\n",
    "    return optimal_k"
   ]
  },
  {
   "cell_type": "code",
   "execution_count": 18,
   "metadata": {},
   "outputs": [
    {
     "name": "stdout",
     "output_type": "stream",
     "text": [
      "\n",
      "The optimal number of neighbors is 5.\n"
     ]
    },
    {
     "data": {
      "image/png": "[encoded data removed]",
      "text/plain": [
       "<Figure size 432x288 with 1 Axes>"
      ]
     },
     "metadata": {},
     "output_type": "display_data"
    },
    {
     "name": "stdout",
     "output_type": "stream",
     "text": [
      "the misclassification error for each k value is :  [0.394 0.378 0.37  0.372 0.375 0.383 0.388 0.39  0.394 0.399 0.403 0.403\n",
      " 0.408 0.411 0.416 0.417 0.417 0.416 0.418 0.422 0.421 0.42  0.42  0.42\n",
      " 0.423]\n"
     ]
    }
   ],
   "source": [
    "# Calling function for optimum k and assigning it to k\n",
    "k=k_classifier_brute(XtrainV,Ytrain,XcvV,Ycv)"
   ]
  },
  {
   "cell_type": "code",
   "execution_count": 20,
   "metadata": {},
   "outputs": [],
   "source": [
    "# Using this optimum k to train our model\n",
    "# using brute algorithm\n",
    "# predicting out test datapoints\n",
    "knn= KNeighborsClassifier(n_neighbors=k,algorithm='brute')\n",
    "knn.fit(XtrainV,Ytrain)\n",
    "pred= knn.predict(XtestV)"
   ]
  },
  {
   "cell_type": "code",
   "execution_count": 21,
   "metadata": {},
   "outputs": [
    {
     "name": "stdout",
     "output_type": "stream",
     "text": [
      "The accuracy for bow classifier using bruteforce is  63.49\n",
      "With neighbors =  5\n"
     ]
    }
   ],
   "source": [
    "acc=accuracy_score(Ytest,pred)*100\n",
    "print('The accuracy for bow classifier using bruteforce is ',acc)\n",
    "print('With neighbors = ',k)"
   ]
  },
  {
   "cell_type": "markdown",
   "metadata": {},
   "source": [
    "## bow kd_tree"
   ]
  },
  {
   "cell_type": "code",
   "execution_count": 24,
   "metadata": {},
   "outputs": [],
   "source": [
    "from sklearn.decomposition import TruncatedSVD\n",
    "model=TruncatedSVD(n_components=1500)\n",
    "XtrainVd=model.fit_transform(XtrainV)\n",
    "XtestVd= model.fit_transform(XtestV)\n",
    "XcvVd= model.fit_transform(XcvV)"
   ]
  },
  {
   "cell_type": "code",
   "execution_count": null,
   "metadata": {},
   "outputs": [],
   "source": [
    "from sklearn.preprocessing import StandardScaler\n",
    "XtrainVd = StandardScaler(with_mean=False).fit_transform(XtrainVd)\n",
    "XtestVd = StandardScaler(with_mean=False).fit_transform(XtestVd)\n",
    "XcvVd = StandardScaler(with_mean=False).fit_transform(XcvVd)"
   ]
  },
  {
   "cell_type": "code",
   "execution_count": 26,
   "metadata": {},
   "outputs": [],
   "source": [
    "# training and running kdtree model\n",
    "knn = KNeighborsClassifier(n_neighbors=k, algorithm = \"kd_tree\")\n",
    "knn.fit(XtrainVd,Ytrain)\n",
    "pred= knn.predict(XtestVd)\n",
    "acc = accuracy_score(Ytest, pred, normalize=True)*100"
   ]
  },
  {
   "cell_type": "code",
   "execution_count": 27,
   "metadata": {},
   "outputs": [
    {
     "name": "stdout",
     "output_type": "stream",
     "text": [
      "The accuracy for bow classifier using kd_tree is  51.2\n",
      "With neighbors =  5\n"
     ]
    }
   ],
   "source": [
    "print('The accuracy for bow classifier using kd_tree is ',acc)\n",
    "print('With neighbors = ',k)"
   ]
  },
  {
   "cell_type": "code",
   "execution_count": 55,
   "metadata": {},
   "outputs": [],
   "source": [
    "with open('X_bowVect.pkl','wb') as k:\n",
    "    pickle.dump(X_bowVect,k)"
   ]
  },
  {
   "cell_type": "markdown",
   "metadata": {},
   "source": [
    "# TF-IDF"
   ]
  },
  {
   "cell_type": "code",
   "execution_count": 34,
   "metadata": {},
   "outputs": [],
   "source": [
    "# generating vetor out of text using tfidf\n",
    "model=TfidfVectorizer(max_features=2000,min_df=50)\n",
    "XtrainV= model.fit_transform(Xtrain)\n",
    "XtestV= model.transform(Xtest)\n",
    "XcvV= model.transform(Xcv)"
   ]
  },
  {
   "cell_type": "code",
   "execution_count": 35,
   "metadata": {},
   "outputs": [],
   "source": [
    "XtrainV = StandardScaler(with_mean=False).fit_transform(XtrainV)\n",
    "XtestV = StandardScaler(with_mean=False).fit_transform(XtestV)\n",
    "XcvV = StandardScaler(with_mean=False).fit_transform(XcvV)"
   ]
  },
  {
   "cell_type": "markdown",
   "metadata": {},
   "source": [
    "## Tfidf bruteforce"
   ]
  },
  {
   "cell_type": "code",
   "execution_count": 36,
   "metadata": {
    "scrolled": false
   },
   "outputs": [
    {
     "name": "stdout",
     "output_type": "stream",
     "text": [
      "\n",
      "The optimal number of neighbors is 5.\n"
     ]
    },
    {
     "data": {
      "image/png": "[encoded data removed]",
      "text/plain": [
       "<Figure size 432x288 with 1 Axes>"
      ]
     },
     "metadata": {},
     "output_type": "display_data"
    },
    {
     "name": "stdout",
     "output_type": "stream",
     "text": [
      "the misclassification error for each k value is :  [0.447 0.428 0.418 0.421 0.427 0.426 0.431 0.435 0.44  0.441 0.442 0.448\n",
      " 0.451 0.454 0.458 0.46  0.465 0.468 0.47  0.473 0.474 0.475 0.477 0.478\n",
      " 0.48 ]\n"
     ]
    }
   ],
   "source": [
    "k= k_classifier_brute(XtrainV,Ytrain,XcvV,Ycv)"
   ]
  },
  {
   "cell_type": "code",
   "execution_count": 37,
   "metadata": {},
   "outputs": [],
   "source": [
    "knn= KNeighborsClassifier(n_neighbors=k,algorithm='brute')\n",
    "knn.fit(XtrainV,Ytrain)\n",
    "pred= knn.predict(XtestV)"
   ]
  },
  {
   "cell_type": "code",
   "execution_count": 38,
   "metadata": {},
   "outputs": [
    {
     "name": "stdout",
     "output_type": "stream",
     "text": [
      "The accuracy for bow classifier using bruteforce is  58.35\n",
      "With neighbors =  5\n"
     ]
    }
   ],
   "source": [
    "acc=accuracy_score(Ytest,pred)*100\n",
    "print('The accuracy for bow classifier using bruteforce is ',acc)\n",
    "print('With neighbors = ',k)"
   ]
  },
  {
   "cell_type": "markdown",
   "metadata": {},
   "source": [
    "## tfidf kd_tree"
   ]
  },
  {
   "cell_type": "code",
   "execution_count": 39,
   "metadata": {},
   "outputs": [],
   "source": [
    "# converting to dense matrix\n",
    "XtrainVd= XtrainV.todense()\n",
    "XtestVd= XtestV.todense()\n",
    "XcvV= XcvV.todense()"
   ]
  },
  {
   "cell_type": "code",
   "execution_count": 40,
   "metadata": {},
   "outputs": [],
   "source": [
    "# training using kd_tree\n",
    "knn = KNeighborsClassifier(n_neighbors=k, algorithm = \"kd_tree\")\n",
    "knn.fit(XtrainVd,Ytrain)\n",
    "pred= knn.predict(XtestVd)\n",
    "acc = accuracy_score(Ytest, pred, normalize=True)*100"
   ]
  },
  {
   "cell_type": "code",
   "execution_count": 41,
   "metadata": {},
   "outputs": [
    {
     "name": "stdout",
     "output_type": "stream",
     "text": [
      "The accuracy for tfidf classifier using kd_tree is  58.35\n",
      "With neighbors =  5\n"
     ]
    }
   ],
   "source": [
    "print('The accuracy for tfidf classifier using kd_tree is ',acc)\n",
    "print('With neighbors = ',k)"
   ]
  },
  {
   "cell_type": "markdown",
   "metadata": {},
   "source": [
    "# Word2Vect"
   ]
  },
  {
   "cell_type": "code",
   "execution_count": 42,
   "metadata": {},
   "outputs": [
    {
     "name": "stdout",
     "output_type": "stream",
     "text": [
      "9212\n"
     ]
    }
   ],
   "source": [
    "# training our gensim model on our reviews text\n",
    "import re\n",
    "import string\n",
    "def cleanhtml(sentance): #substitute expression contained in <> with ' '\n",
    "    cleaned= re.sub(re.compile('<.*?>'),' ',sentance)\n",
    "    return cleaned\n",
    "#function for removing punctuations chars\n",
    "def cleanpunc(sentance):\n",
    "    cleaned= re.sub(r'[?|!|\\'|\"|#]',r'',sentance)\n",
    "    cleaned= re.sub(r'[.|,|)|(|\\|/]',r'',sentance)\n",
    "    return cleaned\n",
    "i=0\n",
    "lists=[]\n",
    "\n",
    "for sent in data['CleanedText'].values:\n",
    "    filtered_sentence=[]\n",
    "    sent=cleanhtml(sent)\n",
    "    for w in sent.split():\n",
    "        for cleaned_words in cleanpunc(w).split():\n",
    "            if(cleaned_words.isalpha()):\n",
    "                filtered_sentence.append(cleaned_words.lower())\n",
    "            else:\n",
    "                continue\n",
    "    lists.append(filtered_sentence)\n",
    "\n",
    "\n",
    "w2v_model= gensim.models.Word2Vec(lists,min_count=5,size=50,workers=4)\n",
    "print(len(list(w2v_model.wv.vocab)))"
   ]
  },
  {
   "cell_type": "code",
   "execution_count": 52,
   "metadata": {},
   "outputs": [],
   "source": [
    "# converting list of sentance into list of list of words\n",
    "# then to vector using avg w2v\n",
    "i=0\n",
    "#function to convert list of list of words to vect using avg w2v\n",
    "def w2vVect(X):    \n",
    "    Xv= []\n",
    "    lists=[]\n",
    "    for sent in X.values:\n",
    "        filtered_sentence=[]\n",
    "        sent=cleanhtml(sent)\n",
    "        for w in sent.split():\n",
    "            for cleaned_words in cleanpunc(w).split():\n",
    "                if(cleaned_words.isalpha()):\n",
    "                    filtered_sentence.append(cleaned_words.lower())\n",
    "                else:\n",
    "                    continue\n",
    "        lists.append(filtered_sentence)\n",
    "\n",
    "    for sent in lists:\n",
    "        sent_vec= np.zeros(50)\n",
    "        cnt_words =0\n",
    "        for words in sent:\n",
    "            try:\n",
    "                vec= w2v_model.wv[words]\n",
    "                sent_vec +=vec\n",
    "                cnt_words +=1\n",
    "            except:\n",
    "                pass\n",
    "        sent_vec /= cnt_words\n",
    "        Xv.append(sent_vec)\n",
    "    return Xv"
   ]
  },
  {
   "cell_type": "code",
   "execution_count": 53,
   "metadata": {},
   "outputs": [],
   "source": [
    "XtrainV= w2vVect(Xtrain)\n",
    "XtestV= w2vVect(Xtest)\n",
    "XcvV= w2vVect(Xcv)"
   ]
  },
  {
   "cell_type": "code",
   "execution_count": 54,
   "metadata": {},
   "outputs": [
    {
     "name": "stdout",
     "output_type": "stream",
     "text": [
      "30000 10000 10000\n",
      "[-0.11604773  0.54099857  0.29178633 -0.25239926 -0.1175138  -0.61374401\n",
      "  0.19680894  0.05050634 -1.03343617  0.98699608  1.31919872 -0.5914252\n",
      " -0.62852167 -0.13118023 -0.38567125  0.98014992 -0.18401304 -0.52344019\n",
      " -0.11218354 -0.02343253 -0.80341634  0.22061019 -0.40507033  0.2641735\n",
      " -0.14449037  0.55569609  0.43939897 -0.95047737 -0.11859465  0.33914289\n",
      "  0.00280342  0.35284341  0.72729829 -0.20411995  1.14240155 -0.63297746\n",
      "  0.68648992 -0.69582398  0.69341675  0.43308346  0.2973939   0.50451787\n",
      " -0.4146615  -0.0356363   1.09218507 -0.58053131 -0.48002614  0.60351453\n",
      "  0.33320507 -0.33331199]\n"
     ]
    }
   ],
   "source": [
    "print(len(XtrainV),len(XtestV),len(XcvV))\n",
    "print(XtrainV[0])"
   ]
  },
  {
   "cell_type": "markdown",
   "metadata": {},
   "source": [
    "## w2v bruteforce"
   ]
  },
  {
   "cell_type": "code",
   "execution_count": 55,
   "metadata": {
    "scrolled": false
   },
   "outputs": [
    {
     "name": "stdout",
     "output_type": "stream",
     "text": [
      "\n",
      "The optimal number of neighbors is 45.\n"
     ]
    },
    {
     "data": {
      "image/png": "[encoded data removed]",
      "text/plain": [
       "<Figure size 432x288 with 1 Axes>"
      ]
     },
     "metadata": {},
     "output_type": "display_data"
    },
    {
     "name": "stdout",
     "output_type": "stream",
     "text": [
      "the misclassification error for each k value is :  [0.276 0.239 0.228 0.22  0.216 0.212 0.208 0.204 0.2   0.202 0.2   0.2\n",
      " 0.198 0.198 0.197 0.197 0.196 0.195 0.195 0.191 0.192 0.191 0.19  0.191\n",
      " 0.19 ]\n"
     ]
    }
   ],
   "source": [
    "k= k_classifier_brute(XtrainV,Ytrain,XcvV,Ycv)"
   ]
  },
  {
   "cell_type": "code",
   "execution_count": 56,
   "metadata": {},
   "outputs": [],
   "source": [
    "knn= KNeighborsClassifier(n_neighbors=k,algorithm='brute')\n",
    "knn.fit(XtrainV,Ytrain)\n",
    "pred= knn.predict(XtestV)"
   ]
  },
  {
   "cell_type": "code",
   "execution_count": 60,
   "metadata": {},
   "outputs": [
    {
     "name": "stdout",
     "output_type": "stream",
     "text": [
      "The accuracy for avg w2v classifier using bruteforce is  80.69\n",
      "With neighbors =  45\n"
     ]
    }
   ],
   "source": [
    "acc=accuracy_score(Ytest,pred)*100\n",
    "print('The accuracy for avg w2v classifier using bruteforce is ',acc)\n",
    "print('With neighbors = ',k)"
   ]
  },
  {
   "cell_type": "markdown",
   "metadata": {},
   "source": [
    "## w2v kd_tree"
   ]
  },
  {
   "cell_type": "code",
   "execution_count": 61,
   "metadata": {},
   "outputs": [],
   "source": [
    "knn= KNeighborsClassifier(n_neighbors=k,algorithm='kd_tree')\n",
    "knn.fit(XtrainV,Ytrain)\n",
    "pred= knn.predict(XtestV)"
   ]
  },
  {
   "cell_type": "code",
   "execution_count": 63,
   "metadata": {},
   "outputs": [
    {
     "name": "stdout",
     "output_type": "stream",
     "text": [
      "The accuracy for avg w2v classifier using kd_tree is  80.69\n",
      "With neighbors =  45\n"
     ]
    }
   ],
   "source": [
    "acc= accuracy_score(Ytest,pred)*100\n",
    "print('The accuracy for avg w2v classifier using kd_tree is ',acc)\n",
    "print('With neighbors = ',k)"
   ]
  },
  {
   "cell_type": "code",
   "execution_count": 96,
   "metadata": {},
   "outputs": [],
   "source": [
    "with open('X_w2vVect.pkl','wb') as k:\n",
    "    pickle.dump(X_w2vVect,k)"
   ]
  },
  {
   "cell_type": "markdown",
   "metadata": {},
   "source": [
    "# TF-IDF weighted avg w2v"
   ]
  },
  {
   "cell_type": "code",
   "execution_count": 64,
   "metadata": {},
   "outputs": [],
   "source": [
    "tfidf_feat=model.get_feature_names()"
   ]
  },
  {
   "cell_type": "code",
   "execution_count": 65,
   "metadata": {},
   "outputs": [
    {
     "data": {
      "text/plain": [
       "['abl', 'absolut', 'absorb', 'accept', 'accord']"
      ]
     },
     "execution_count": 65,
     "metadata": {},
     "output_type": "execute_result"
    }
   ],
   "source": [
    "tfidf_feat[:5]"
   ]
  },
  {
   "cell_type": "code",
   "execution_count": 71,
   "metadata": {},
   "outputs": [
    {
     "data": {
      "text/plain": [
       "sklearn.feature_extraction.text.TfidfVectorizer"
      ]
     },
     "execution_count": 71,
     "metadata": {},
     "output_type": "execute_result"
    }
   ],
   "source": [
    "type(model)"
   ]
  },
  {
   "cell_type": "code",
   "execution_count": 73,
   "metadata": {},
   "outputs": [],
   "source": [
    "XtrainV= model.transform(Xtrain)\n",
    "XtestV= model.transform(Xtest)\n",
    "XcvV= model.transform(Xcv)"
   ]
  },
  {
   "cell_type": "code",
   "execution_count": 84,
   "metadata": {},
   "outputs": [
    {
     "data": {
      "text/plain": [
       "0.11445245398533357"
      ]
     },
     "execution_count": 84,
     "metadata": {},
     "output_type": "execute_result"
    }
   ],
   "source": [
    "XtrainV[0,tfidf_feat.index('complet')]"
   ]
  },
  {
   "cell_type": "code",
   "execution_count": 90,
   "metadata": {},
   "outputs": [],
   "source": [
    "# TF-IDF weighted Word2Vec\n",
    "#function to convert to vector\n",
    "# it will take train data and tfidf vector data as parameter\n",
    "def tfidfw2vVect(X,XtfidfV):\n",
    "    Xv = []; # the tfidf-w2v for each sentence/review is stored in this list\n",
    "    row=0;\n",
    "    lists=[]\n",
    "    for sent in X.values:\n",
    "        filtered_sentence=[]\n",
    "        sent=cleanhtml(sent)\n",
    "        for w in sent.split():\n",
    "            for cleaned_words in cleanpunc(w).split():\n",
    "                if(cleaned_words.isalpha()):\n",
    "                    filtered_sentence.append(cleaned_words.lower())\n",
    "                else:\n",
    "                    continue\n",
    "        lists.append(filtered_sentence)\n",
    "    for sent in lists: # for each review/sentence\n",
    "        sent_vec = np.zeros(50) # as word vectors are of zero length\n",
    "        weight_sum =0; # num of words with a valid vector in the sentence/review\n",
    "        for word in sent: # for each word in a review/sentence\n",
    "            try:\n",
    "                vec = w2v_model.wv[word]\n",
    "                # obtain the tf_idfidf of a word in a sentence/review\n",
    "                tf_idf = XtfidfV[row, tfidf_feat.index(word)]\n",
    "                sent_vec += (vec * tf_idf)\n",
    "                weight_sum += tf_idf\n",
    "            except:\n",
    "                pass\n",
    "        sent_vec /= weight_sum\n",
    "        Xv.append(sent_vec)\n",
    "        row += 1  \n",
    "    # converting nan and infinte values in vect to digit\n",
    "    Xv= np.nan_to_num(Xv)\n",
    "    return Xv"
   ]
  },
  {
   "cell_type": "code",
   "execution_count": 91,
   "metadata": {},
   "outputs": [
    {
     "name": "stderr",
     "output_type": "stream",
     "text": [
      "C:\\Anaconda3\\lib\\site-packages\\ipykernel_launcher.py:30: RuntimeWarning: invalid value encountered in true_divide\n"
     ]
    }
   ],
   "source": [
    "XtrainAV= tfidfw2vVect(Xtrain,XtrainV)\n",
    "XtestAV= tfidfw2vVect(Xtest,XtestV)\n",
    "XcvAV= tfidfw2vVect(Xcv,XcvV)"
   ]
  },
  {
   "cell_type": "code",
   "execution_count": 93,
   "metadata": {},
   "outputs": [
    {
     "data": {
      "text/plain": [
       "array([-0.8333719 ,  0.8730524 , -0.08706826,  0.75762526, -0.73645363,\n",
       "       -0.60910308, -0.09750205, -0.41125738, -1.02434802,  1.22613327,\n",
       "        1.74718659, -0.81910582,  0.00331933,  0.07499132, -0.47200778,\n",
       "        0.99363715, -0.07511165,  0.61340268,  0.42997215, -0.03130556,\n",
       "        0.1642216 , -0.43596549, -0.30097985, -0.23895799,  0.12504571,\n",
       "        0.27145366,  0.65908113, -0.94248136, -0.44990166,  0.38249384,\n",
       "       -0.74173408,  0.86823694, -0.87666546,  0.07944639,  1.00050767,\n",
       "        0.2955929 ,  0.00679639, -0.51173661,  0.67724809,  0.37127695,\n",
       "        0.59601759,  0.52860751,  0.12945621,  0.4253182 , -0.34413916,\n",
       "        0.27232762,  0.09945474,  0.55194808, -0.0960359 , -0.39073714])"
      ]
     },
     "execution_count": 93,
     "metadata": {},
     "output_type": "execute_result"
    }
   ],
   "source": [
    "XtrainAV[1]"
   ]
  },
  {
   "cell_type": "code",
   "execution_count": 136,
   "metadata": {},
   "outputs": [],
   "source": []
  },
  {
   "cell_type": "markdown",
   "metadata": {},
   "source": [
    "## TF-IDF weighted W2v using bruteforce"
   ]
  },
  {
   "cell_type": "code",
   "execution_count": 94,
   "metadata": {},
   "outputs": [
    {
     "name": "stdout",
     "output_type": "stream",
     "text": [
      "\n",
      "The optimal number of neighbors is 49.\n"
     ]
    },
    {
     "data": {
      "image/png": "[encoded data removed]",
      "text/plain": [
       "<Figure size 432x288 with 1 Axes>"
      ]
     },
     "metadata": {},
     "output_type": "display_data"
    },
    {
     "name": "stdout",
     "output_type": "stream",
     "text": [
      "the misclassification error for each k value is :  [0.302 0.274 0.258 0.249 0.244 0.24  0.24  0.236 0.236 0.232 0.233 0.234\n",
      " 0.231 0.231 0.231 0.23  0.23  0.228 0.227 0.227 0.228 0.226 0.227 0.226\n",
      " 0.226]\n"
     ]
    }
   ],
   "source": [
    "k= k_classifier_brute(XtrainAV,Ytrain,XcvAV,Ycv)"
   ]
  },
  {
   "cell_type": "code",
   "execution_count": 95,
   "metadata": {},
   "outputs": [],
   "source": [
    "knn= KNeighborsClassifier(n_neighbors=k,algorithm='brute')\n",
    "knn.fit(XtrainAV,Ytrain)\n",
    "pred= knn.predict(XtestAV)"
   ]
  },
  {
   "cell_type": "code",
   "execution_count": 96,
   "metadata": {},
   "outputs": [
    {
     "name": "stdout",
     "output_type": "stream",
     "text": [
      "The accuracy for tfidf avg w2v classifier using bruteforce is  77.58\n",
      "With neighbors =  49\n"
     ]
    }
   ],
   "source": [
    "acc=accuracy_score(Ytest,pred)*100\n",
    "print('The accuracy for tfidf avg w2v classifier using bruteforce is ',acc)\n",
    "print('With neighbors = ',k)"
   ]
  },
  {
   "cell_type": "markdown",
   "metadata": {},
   "source": [
    "## TF-IDF weighted W2v using kd_tree"
   ]
  },
  {
   "cell_type": "code",
   "execution_count": 97,
   "metadata": {},
   "outputs": [],
   "source": [
    "knn= KNeighborsClassifier(n_neighbors=k,algorithm='kd_tree')\n",
    "knn.fit(XtrainAV,Ytrain)\n",
    "pred= knn.predict(XtestAV)"
   ]
  },
  {
   "cell_type": "code",
   "execution_count": 99,
   "metadata": {},
   "outputs": [
    {
     "name": "stdout",
     "output_type": "stream",
     "text": [
      "The accuracy for tfidf avg w2v classifier using kd_tree is  77.58\n",
      "With neighbors =  49\n"
     ]
    }
   ],
   "source": [
    "acc= accuracy_score(Ytest,pred)*100\n",
    "print('The accuracy for tfidf avg w2v classifier using kd_tree is ',acc)\n",
    "print('With neighbors = ',k)"
   ]
  },
  {
   "cell_type": "code",
   "execution_count": null,
   "metadata": {},
   "outputs": [],
   "source": []
  },
  {
   "cell_type": "code",
   "execution_count": 100,
   "metadata": {},
   "outputs": [
    {
     "name": "stdout",
     "output_type": "stream",
     "text": [
      "+----------------+----------------+--------------------+-----------------+\n",
      "|   Vectorizer   | HyperParameter | BruteforceAccuracy | KD_treeAccuracy |\n",
      "+----------------+----------------+--------------------+-----------------+\n",
      "|      BOW       |       5        |       63.49        |       51.2      |\n",
      "|     TF-IDF     |       5        |       58.65        |      58.65      |\n",
      "|    Avg W2V     |       45       |       80.69        |      80.69      |\n",
      "| TF-IDF avg W2V |       49       |       77.58        |      77.58      |\n",
      "+----------------+----------------+--------------------+-----------------+\n"
     ]
    }
   ],
   "source": [
    "from prettytable import PrettyTable\n",
    "x= PrettyTable()\n",
    "x.field_names = ['Vectorizer','HyperParameter','BruteforceAccuracy','KD_treeAccuracy']\n",
    "x.add_row(['BOW','5','63.49','51.2'])\n",
    "x.add_row(['TF-IDF','5','58.65','58.65'])\n",
    "x.add_row(['Avg W2V','45','80.69','80.69'])\n",
    "x.add_row(['TF-IDF avg W2V','49','77.58','77.58'])\n",
    "print(x)"
   ]
  }
 ],
 "metadata": {
  "celltoolbar": "Raw Cell Format",
  "kernelspec": {
   "display_name": "Python 3",
   "language": "python",
   "name": "python3"
  },
  "language_info": {
   "codemirror_mode": {
    "name": "ipython",
    "version": 3
   },
   "file_extension": ".py",
   "mimetype": "text/x-python",
   "name": "python",
   "nbconvert_exporter": "python",
   "pygments_lexer": "ipython3",
   "version": "3.6.5"
  },
  "notify_time": "5"
 },
 "nbformat": 4,
 "nbformat_minor": 2
}
