{
 "cells": [
  {
   "cell_type": "markdown",
   "metadata": {},
   "source": [
    "# Naive Bayes on Amazon Fine FOod Reviews\n",
    "Naive bayes is simple probabilistic algorithm which uses bayesian theorem for conditional probability.\n",
    "We assume here conditioinal independence (naive) to simplify our approach.\n",
    "* We will apply naive bayes on amazon finefood reviews by converting reviews into numerical vectors\n",
    "* Reviews converted to numerical vectors using two different approachs BagOfWords and Tfidf \n",
    "* To determine hyperparameter (Alpha) we will use 10 fold cross validation\n",
    "* For hyperparameter tunning we will use feature engineering in which we will add top features of Summary text"
   ]
  },
  {
   "cell_type": "code",
   "execution_count": 101,
   "metadata": {},
   "outputs": [],
   "source": [
    "#importing necessary packages\n",
    "import sqlite3\n",
    "import pandas as pd\n",
    "import numpy as np\n",
    "from sklearn.preprocessing import StandardScaler\n",
    "import matplotlib.pyplot as plt\n",
    "import seaborn as sns\n",
    "import nltk\n",
    "from sklearn.feature_extraction.text import CountVectorizer,TfidfVectorizer\n",
    "import pickle\n",
    "import sklearn.cross_validation\n",
    "from sklearn.model_selection import train_test_split\n",
    "from collections import Counter\n",
    "from sklearn.metrics import accuracy_score\n",
    "from sklearn import cross_validation"
   ]
  },
  {
   "cell_type": "markdown",
   "metadata": {},
   "source": [
    "## Reading already Cleaned, Preprocessed data from database\n",
    "\n",
    "After removing stopwords, punctuations, meaningless characters, HTML tags from Text \n",
    "and done stemming. Using it directly as it was alredy done in prevoius assignment"
   ]
  },
  {
   "cell_type": "code",
   "execution_count": 102,
   "metadata": {},
   "outputs": [
    {
     "data": {
      "text/plain": [
       "(364171, 11)"
      ]
     },
     "execution_count": 102,
     "metadata": {},
     "output_type": "execute_result"
    }
   ],
   "source": [
    "#Reading\n",
    "conn= sqlite3.connect('cleanedTextData.sqlite')\n",
    "data= pd.read_sql_query('''\n",
    "SELECT * FROM Reviews\n",
    "''',conn)\n",
    "data=data.drop('index',axis=1)\n",
    "data.shape"
   ]
  },
  {
   "cell_type": "code",
   "execution_count": 103,
   "metadata": {},
   "outputs": [
    {
     "data": {
      "text/plain": [
       "Index(['Id', 'ProductId', 'UserId', 'ProfileName', 'HelpfulnessNumerator',\n",
       "       'HelpfulnessDenominator', 'Score', 'Time', 'Summary', 'Text',\n",
       "       'CleanedText'],\n",
       "      dtype='object')"
      ]
     },
     "execution_count": 103,
     "metadata": {},
     "output_type": "execute_result"
    }
   ],
   "source": [
    "data.columns"
   ]
  },
  {
   "cell_type": "code",
   "execution_count": 104,
   "metadata": {},
   "outputs": [
    {
     "data": {
      "text/plain": [
       "0    witti littl book make son laugh loud recit car...\n",
       "1    rememb see show air televis year ago child sis...\n",
       "2    beetlejuic well written movi everyth act speci...\n",
       "Name: CleanedText, dtype: object"
      ]
     },
     "execution_count": 104,
     "metadata": {},
     "output_type": "execute_result"
    }
   ],
   "source": [
    "data['CleanedText'].head(3)"
   ]
  },
  {
   "cell_type": "markdown",
   "metadata": {},
   "source": [
    " ## Sorting on the basis of 'Time' and taking top 100k pts\n",
    "\n",
    " This data has time attribute so it will be reasonable to do time based splitting instead\n",
    "   of random splitting.\n",
    "\n",
    " So, before splitting we have to sort our data according to time and here we are taking\n",
    " 100k points from our dataset(population)"
   ]
  },
  {
   "cell_type": "code",
   "execution_count": null,
   "metadata": {},
   "outputs": [],
   "source": [
    "data[\"Time\"] = pd.to_datetime(data[\"Time\"], unit = \"ms\")\n",
    "data = data.sort_values(by = \"Time\")"
   ]
  },
  {
   "cell_type": "code",
   "execution_count": 106,
   "metadata": {},
   "outputs": [
    {
     "data": {
      "text/plain": [
       "100000"
      ]
     },
     "execution_count": 106,
     "metadata": {},
     "output_type": "execute_result"
    }
   ],
   "source": [
    "#latest 100k points according to time\n",
    "data= data[:100000]\n",
    "len(data)"
   ]
  },
  {
   "cell_type": "markdown",
   "metadata": {},
   "source": [
    "## Splitting data into train70% test30%\n",
    "\n",
    "Splitting our data into train and test data.\n",
    "* train data will train our ML model\n",
    "* cross validataion data will be for determining our hyperparameter\n",
    "* test data will tell how Generalized our model is\n",
    "* dataframes after splitting:- traindata, testdata"
   ]
  },
  {
   "cell_type": "code",
   "execution_count": 107,
   "metadata": {},
   "outputs": [
    {
     "name": "stdout",
     "output_type": "stream",
     "text": [
      "70000 30000\n"
     ]
    }
   ],
   "source": [
    "traindata, testdata= train_test_split(data, test_size= 0.3, shuffle= False,stratify= None)\n",
    "print(len(traindata),len(testdata))"
   ]
  },
  {
   "cell_type": "code",
   "execution_count": 108,
   "metadata": {},
   "outputs": [],
   "source": [
    "Xtrain,Xtest= traindata['CleanedText'],testdata['CleanedText']\n",
    "Ytrain,Ytest= traindata['Score'],testdata['Score']"
   ]
  },
  {
   "cell_type": "code",
   "execution_count": 109,
   "metadata": {},
   "outputs": [],
   "source": [
    "# converting positive to 1 and negative to 0\n",
    "Ytrain=Ytrain.map(lambda x:1 if x=='Positive' else 0)\n",
    "Ytest=Ytest.map(lambda x:1 if x=='Positive' else 0)"
   ]
  },
  {
   "cell_type": "markdown",
   "metadata": {},
   "source": [
    "Taking Text and score(class) as sequences\n",
    "* traindata -> Xtrain, Ytrain\n",
    "* testdata -> Xtest, Ytest"
   ]
  },
  {
   "cell_type": "markdown",
   "metadata": {},
   "source": [
    "# BOW Vectorization\n",
    "Bow vectorization is basic technique to convert a text into numerical vector.\n",
    "* We will build a model on train text using fit-transform\n",
    "* Then transform (test) text on model build by train text\n",
    "* Transformed data will be in the form of sparse matrix"
   ]
  },
  {
   "cell_type": "code",
   "execution_count": 211,
   "metadata": {},
   "outputs": [],
   "source": [
    "# vectorizing X and transforming\n",
    "bowModel=CountVectorizer()\n",
    "XtrainV=bowModel.fit_transform(Xtrain.values)"
   ]
  },
  {
   "cell_type": "code",
   "execution_count": 212,
   "metadata": {},
   "outputs": [
    {
     "data": {
      "text/plain": [
       "(30000, 39730)"
      ]
     },
     "execution_count": 212,
     "metadata": {},
     "output_type": "execute_result"
    }
   ],
   "source": [
    "XtestV= bowModel.transform(Xtest)\n",
    "XtestV.shape"
   ]
  },
  {
   "cell_type": "code",
   "execution_count": null,
   "metadata": {},
   "outputs": [],
   "source": [
    "#Standardizing vectors\n",
    "std = StandardScaler(with_mean=False).fit(XtrainV)\n",
    "XtrainV = std.transform(XtrainV)\n",
    "XtestV = std.transform(XtestV)"
   ]
  },
  {
   "cell_type": "markdown",
   "metadata": {},
   "source": [
    "We have here vectors from train data and test data ready to get fit into our naive bayes model.\n",
    "## Finding optimal Hyperparameter alpha for our Naive Bayes\n",
    "* We will do **hyperparameter tunning** by adding top features of summary vector from reviews\n",
    "* To do that we will first convert our **summary text** to **summaryVector**\n",
    "* choose some top features from summary and add it to our original text vectors\n",
    "\n",
    "### Text preprocessing for summary text"
   ]
  },
  {
   "cell_type": "code",
   "execution_count": 114,
   "metadata": {},
   "outputs": [],
   "source": [
    "# cleaning punctuations, html tags, lemmitization, stemming and removing stop words\n",
    "import re\n",
    "import string\n",
    "from sklearn.preprocessing import StandardScaler\n",
    "import nltk\n",
    "from nltk.corpus import stopwords\n",
    "from nltk.stem import SnowballStemmer as sno\n",
    "setofstopwords=set(stopwords.words('english'))\n",
    "\n",
    "def cleanhtml(sentance): #substitute expression contained in <> with ' '\n",
    "    cleaned= re.sub(re.compile('<.*?>'),' ',sentance)\n",
    "    return cleaned\n",
    "#function for removing punctuations chars\n",
    "def cleanpunc(sentance):\n",
    "    cleaned= re.sub(r'[?|!|\\'|\"|#]',r'',sentance)\n",
    "    cleaned= re.sub(r'[.|,|)|(|\\|/]',r'',sentance)\n",
    "    return cleaned\n",
    "snowstem= sno('english')\n",
    "\n",
    "i=0\n",
    "str1=' '\n",
    "summary_string=[]\n",
    "all_positive_words=[] # store words from +ve reviews here\n",
    "all_negative_words=[] # store words from -ve reviews here.\n",
    "for sent in data['Summary'].values:\n",
    "    filtered_sentence=[]\n",
    "    #print(sent);\n",
    "    sent=cleanhtml(sent) # remove HTMl tags\n",
    "    for w in sent.split():\n",
    "        # we have used cleanpunc(w).split(), one more split function here \n",
    "        # because consider w=\"abc.def\", cleanpunc(w) will return \"abc def\"\n",
    "        # if we dont use .split() function then we will be considring \"abc def\" \n",
    "        # as a single word, but if you use .split() function we will get \"abc\", \"def\"\n",
    "        for cleaned_words in cleanpunc(w).split():\n",
    "            if((cleaned_words.isalpha()) & (len(cleaned_words)>2)):    \n",
    "                if(cleaned_words.lower() not in setofstopwords):\n",
    "                    s=(snowstem.stem(cleaned_words.lower())).encode('utf8')\n",
    "                    filtered_sentence.append(s)\n",
    "                    if(data['Score'].values)[i] =='Positive':\n",
    "                        all_positive_words.append(s)\n",
    "                    if(data['Score'].values)[i] =='Negative':\n",
    "                        all_negative_words.append(s)\n",
    "                else:\n",
    "                    continue\n",
    "            else:\n",
    "                continue\n",
    "    str1 = b\" \".join(filtered_sentence) #final string of cleaned words\n",
    "    summary_string.append(str1)"
   ]
  },
  {
   "cell_type": "code",
   "execution_count": 115,
   "metadata": {},
   "outputs": [],
   "source": [
    "# adding cleaned summary text to our reviews data as new column\n",
    "data['CleanedSummary']=summary_string\n",
    "data['CleanedSummary']=data['CleanedSummary'].str.decode(\"utf-8\")"
   ]
  },
  {
   "cell_type": "code",
   "execution_count": 214,
   "metadata": {},
   "outputs": [
    {
     "name": "stdout",
     "output_type": "stream",
     "text": [
      "70000 30000\n"
     ]
    }
   ],
   "source": [
    "#splitting summary data into train and test\n",
    "sumtraindata, sumtestdata= train_test_split(data['CleanedSummary'], test_size= 0.3, shuffle= False,stratify= None)\n",
    "print(len(sumtraindata),len(sumtestdata))"
   ]
  },
  {
   "cell_type": "code",
   "execution_count": 215,
   "metadata": {},
   "outputs": [
    {
     "data": {
      "text/plain": [
       "(30000, 1000)"
      ]
     },
     "execution_count": 215,
     "metadata": {},
     "output_type": "execute_result"
    }
   ],
   "source": [
    "# vectorizing X and transforming on summary data\n",
    "sumbowModel=CountVectorizer(max_features=1000)\n",
    "sumXtrainV=sumbowModel.fit_transform(sumtraindata.values)\n",
    "sumXtestV= sumbowModel.transform(sumtestdata)\n",
    "sumXtestV.shape"
   ]
  },
  {
   "cell_type": "code",
   "execution_count": null,
   "metadata": {},
   "outputs": [],
   "source": [
    "#Standardizing the vector\n",
    "std = StandardScaler(with_mean=False).fit(sumXtrainV)\n",
    "sumXtrainV = std.transform(sumXtrainV)\n",
    "sumsumXtestV = std.transform(sumXtestV)"
   ]
  },
  {
   "cell_type": "markdown",
   "metadata": {},
   "source": [
    "* Finally we have both summary vectors and text review vectors. Now we will join both by taking top 1000 features of \n",
    "  summary "
   ]
  },
  {
   "cell_type": "code",
   "execution_count": 121,
   "metadata": {},
   "outputs": [],
   "source": [
    "from scipy.sparse import hstack\n",
    "finaltrain=hstack((XtrainV,sumXtrainV))\n",
    "finaltest=hstack((XtestV,sumXtestV))"
   ]
  },
  {
   "cell_type": "code",
   "execution_count": 122,
   "metadata": {},
   "outputs": [
    {
     "data": {
      "text/plain": [
       "(70000, 40730)"
      ]
     },
     "execution_count": 122,
     "metadata": {},
     "output_type": "execute_result"
    }
   ],
   "source": [
    "finaltrain.shape"
   ]
  },
  {
   "cell_type": "markdown",
   "metadata": {},
   "source": [
    "* Now we will find optimal hyperparameter\n",
    "### function to return optimal hyperparameter"
   ]
  },
  {
   "cell_type": "code",
   "execution_count": 138,
   "metadata": {},
   "outputs": [],
   "source": [
    "from sklearn.metrics import f1_score\n",
    "from sklearn.naive_bayes import MultinomialNB\n",
    "from sklearn.model_selection import cross_val_score\n",
    "def alpha_multinomialnb(finaltrain, ytrain):\n",
    " \n",
    "    alpha_values = np.linspace(0.000001,1,50)\n",
    "    cv_scores=[]\n",
    "    # performing for different alpha\n",
    "    for alpha in alpha_values:\n",
    "        mnb = MultinomialNB(alpha = alpha)\n",
    "        scores = cross_val_score(mnb, finaltrain, ytrain, cv = 10, scoring = 'f1')\n",
    "        cv_scores.append(scores.mean())\n",
    "    \n",
    "    # determining best alpha\n",
    "    optimal_alpha = alpha_values[cv_scores.index(max(cv_scores))]\n",
    "    print('\\nThe optimal number of alpha_values is ' ,optimal_alpha)\n",
    "\n",
    "    # plot alpha vs f1 score \n",
    "    plt.plot(alpha_values, cv_scores)\n",
    "\n",
    "    plt.title(\"F1 Score vs alpha\")\n",
    "    plt.xlabel('Number of alpha_values')\n",
    "    plt.ylabel('F1 score')\n",
    "    plt.show()\n",
    "    print(\"the F1 for each alpha value is : \", np.round(cv_scores,3))\n",
    "    print('With f1_score as ',max(cv_scores))\n",
    "    return optimal_alpha"
   ]
  },
  {
   "cell_type": "code",
   "execution_count": 139,
   "metadata": {
    "scrolled": false
   },
   "outputs": [
    {
     "name": "stdout",
     "output_type": "stream",
     "text": [
      "\n",
      "The optimal number of alpha_values is  1e-06\n"
     ]
    },
    {
     "data": {
      "image/png": "[encoded data removed]",
      "text/plain": [
       "<Figure size 432x288 with 1 Axes>"
      ]
     },
     "metadata": {},
     "output_type": "display_data"
    },
    {
     "name": "stdout",
     "output_type": "stream",
     "text": [
      "the F1 for each alpha value is :  [0.866 0.857 0.855 0.854 0.853 0.852 0.851 0.851 0.85  0.85  0.849 0.849\n",
      " 0.848 0.848 0.848 0.847 0.847 0.847 0.847 0.846 0.846 0.846 0.846 0.845\n",
      " 0.845 0.845 0.845 0.844 0.844 0.844 0.844 0.844 0.843 0.843 0.843 0.843\n",
      " 0.843 0.843 0.842 0.842 0.842 0.842 0.842 0.842 0.842 0.841 0.841 0.841\n",
      " 0.841 0.841]\n",
      "With f1_score as  0.8663818874954738\n"
     ]
    }
   ],
   "source": [
    "# calling our function for optimal alpha\n",
    "a=alpha_multinomialnb(finaltrain, Ytrain)"
   ]
  },
  {
   "cell_type": "code",
   "execution_count": 160,
   "metadata": {},
   "outputs": [],
   "source": [
    "# Now training our model after getting optimal hyperparameter a\n",
    "mnb= MultinomialNB(alpha=a)\n",
    "mnb.fit(XtrainV,Ytrain)\n",
    "pred=mnb.predict(XtestV)"
   ]
  },
  {
   "cell_type": "markdown",
   "metadata": {},
   "source": [
    "## Feature importance"
   ]
  },
  {
   "cell_type": "code",
   "execution_count": 161,
   "metadata": {},
   "outputs": [],
   "source": [
    "bow_features= bowModel.get_feature_names()"
   ]
  },
  {
   "cell_type": "code",
   "execution_count": 162,
   "metadata": {},
   "outputs": [
    {
     "data": {
      "text/plain": [
       "39730"
      ]
     },
     "execution_count": 162,
     "metadata": {},
     "output_type": "execute_result"
    }
   ],
   "source": [
    "len(bow_features)"
   ]
  },
  {
   "cell_type": "code",
   "execution_count": 163,
   "metadata": {},
   "outputs": [
    {
     "data": {
      "text/plain": [
       "(2, 39730)"
      ]
     },
     "execution_count": 163,
     "metadata": {},
     "output_type": "execute_result"
    }
   ],
   "source": [
    "feat_count = mnb.feature_count_\n",
    "feat_count.shape"
   ]
  },
  {
   "cell_type": "code",
   "execution_count": 164,
   "metadata": {},
   "outputs": [
    {
     "data": {
      "text/plain": [
       "array([[-28.99921295, -28.99921295, -28.99921295, ..., -28.99921295,\n",
       "        -28.99921295, -28.99921295],\n",
       "       [-11.48441702, -11.48441702, -11.48441702, ..., -11.48441702,\n",
       "        -11.48441702, -11.48441702]])"
      ]
     },
     "execution_count": 164,
     "metadata": {},
     "output_type": "execute_result"
    }
   ],
   "source": [
    "log_prob = mnb.feature_log_prob_\n",
    "log_prob"
   ]
  },
  {
   "cell_type": "code",
   "execution_count": 165,
   "metadata": {},
   "outputs": [
    {
     "data": {
      "text/plain": [
       "(39730, 2)"
      ]
     },
     "execution_count": 165,
     "metadata": {},
     "output_type": "execute_result"
    }
   ],
   "source": [
    "feature_prob = pd.DataFrame(log_prob, columns = bow_features)\n",
    "feature_prob_tr = feature_prob.T\n",
    "feature_prob_tr.shape"
   ]
  },
  {
   "cell_type": "code",
   "execution_count": 166,
   "metadata": {
    "scrolled": false
   },
   "outputs": [
    {
     "name": "stdout",
     "output_type": "stream",
     "text": [
      "Top 10 Negative Features:-\n",
      " tast         -6.490837\n",
      "product      -6.577409\n",
      "like         -6.611412\n",
      "disappoint   -6.636449\n",
      "would        -6.681984\n",
      "one          -6.811073\n",
      "tri          -6.860446\n",
      "bad          -6.870958\n",
      "buy          -6.876838\n",
      "money        -6.907528\n",
      "Name: 0, dtype: float64\n",
      "\n",
      "\n",
      " Top 10 Positive Features:-\n",
      " great    -6.619207\n",
      "love     -6.645909\n",
      "good     -6.675704\n",
      "like     -6.703197\n",
      "tast     -6.706566\n",
      "tri      -6.847749\n",
      "flavor   -6.854190\n",
      "one      -6.856025\n",
      "make     -6.875910\n",
      "use      -6.890117\n",
      "Name: 1, dtype: float64\n"
     ]
    }
   ],
   "source": [
    "# To show top 10 feature from both class\n",
    "# Feature Importance\n",
    "print(\"Top 10 Negative Features:-\\n\",feature_prob_tr[0].sort_values(ascending = False)[0:10])\n",
    "print(\"\\n\\n Top 10 Positive Features:-\\n\",feature_prob_tr[1].sort_values(ascending = False)[0:10])"
   ]
  },
  {
   "cell_type": "markdown",
   "metadata": {},
   "source": [
    "## Checking performance of our model using different metrics"
   ]
  },
  {
   "cell_type": "code",
   "execution_count": 175,
   "metadata": {
    "scrolled": false
   },
   "outputs": [
    {
     "name": "stdout",
     "output_type": "stream",
     "text": [
      "accuracy on test data 0.8152666666666667\n",
      "             precision    recall  f1-score   support\n",
      "\n",
      "          0       0.38      0.56      0.45      4098\n",
      "          1       0.93      0.86      0.89     25902\n",
      "\n",
      "avg / total       0.85      0.82      0.83     30000\n",
      "\n"
     ]
    },
    {
     "data": {
      "text/plain": [
       "<matplotlib.axes._subplots.AxesSubplot at 0x13c4b2d5c18>"
      ]
     },
     "execution_count": 175,
     "metadata": {},
     "output_type": "execute_result"
    },
    {
     "data": {
      "image/png": "[encoded data removed]",
      "text/plain": [
       "<Figure size 432x288 with 2 Axes>"
      ]
     },
     "metadata": {},
     "output_type": "display_data"
    }
   ],
   "source": [
    "from sklearn.metrics import classification_report\n",
    "print('accuracy on test data',accuracy_score(Ytest,pred))\n",
    "print(classification_report(Ytest,pred))\n",
    "\n",
    "from sklearn.metrics import confusion_matrix\n",
    "tn, fp, fn, tp = confusion_matrix(Ytest,pred).ravel()\n",
    "cfm= confusion_matrix(Ytest,pred)\n",
    "df_cm = pd.DataFrame(cfm,columns = ['Pred Negative','Pred Positive']\\\n",
    "                     ,index = ['Real Negative','Real Positive'])\n",
    "plt.title('Confusion Matrix for test data')\n",
    "sns.heatmap(df_cm, annot=True)\n"
   ]
  },
  {
   "cell_type": "code",
   "execution_count": 184,
   "metadata": {},
   "outputs": [
    {
     "name": "stdout",
     "output_type": "stream",
     "text": [
      " TN 2305\n",
      " FP 1793\n",
      " FN 3749\n",
      " TP 22153\n"
     ]
    }
   ],
   "source": [
    "print(' TN {}\\n FP {}\\n FN {}\\n TP {}'.format(tn,fp,fn,tp))"
   ]
  },
  {
   "cell_type": "markdown",
   "metadata": {},
   "source": [
    "#### Confusion matrix on train data"
   ]
  },
  {
   "cell_type": "code",
   "execution_count": 172,
   "metadata": {},
   "outputs": [],
   "source": [
    "predtr=mnb.predict(XtrainV)"
   ]
  },
  {
   "cell_type": "code",
   "execution_count": 177,
   "metadata": {},
   "outputs": [
    {
     "data": {
      "text/plain": [
       "<matplotlib.axes._subplots.AxesSubplot at 0x13c27f8f710>"
      ]
     },
     "execution_count": 177,
     "metadata": {},
     "output_type": "execute_result"
    },
    {
     "data": {
      "image/png": "[encoded data removed]",
      "text/plain": [
       "<Figure size 432x288 with 2 Axes>"
      ]
     },
     "metadata": {},
     "output_type": "display_data"
    }
   ],
   "source": [
    "cfm= confusion_matrix(Ytrain,predtr)\n",
    "df_cm = pd.DataFrame(cfm,columns = ['Pred Negative','Pred Positive']\\\n",
    "                     ,index = ['Real Negative','Real Positive'])\n",
    "plt.title('Confusion Matrix for train data')\n",
    "sns.heatmap(df_cm, annot=True)"
   ]
  },
  {
   "cell_type": "markdown",
   "metadata": {},
   "source": [
    "## Observations:-\n",
    "* Test data accuracy = 81.52%\n",
    "* F1 score of test data = 83%\n",
    "* precision = 85%\n",
    "* Average recall= 82%\n",
    "* sensitivity= 86%\n",
    "* specificity= 56%\n",
    "* TN = 2305,  FP = 1793, FN = 3749, TP = 22153\n",
    "* F1 score on train data = 86.6%"
   ]
  },
  {
   "cell_type": "markdown",
   "metadata": {},
   "source": [
    "***\n",
    "# TFIDF vectorization\n",
    "\n",
    "* We will build a model on train text using fit-transform\n",
    "* Then transform (test) text on model build by train text\n",
    "* Transformed data will be in the form of sparse matrix\n",
    "* Then Standardize our data"
   ]
  },
  {
   "cell_type": "code",
   "execution_count": 206,
   "metadata": {},
   "outputs": [],
   "source": [
    "# generating vetor out of text using tfidf\n",
    "model=TfidfVectorizer()\n",
    "XtrainV= model.fit_transform(Xtrain)\n",
    "XtestV= model.transform(Xtest)"
   ]
  },
  {
   "cell_type": "code",
   "execution_count": 207,
   "metadata": {},
   "outputs": [],
   "source": [
    "std= StandardScaler(with_mean=False)\n",
    "XtrainV = std.fit_transform(XtrainV)\n",
    "XtestV = std.transform(XtestV)"
   ]
  },
  {
   "cell_type": "code",
   "execution_count": 208,
   "metadata": {},
   "outputs": [],
   "source": [
    "# generating vector out of summary text data using Tfidf\n",
    "tfidf= TfidfVectorizer(max_features=100)\n",
    "sumXtrainV= tfidf.fit_transform(sumtraindata)\n",
    "sumXtestV= tfidf.transform(sumtestdata)"
   ]
  },
  {
   "cell_type": "code",
   "execution_count": 209,
   "metadata": {},
   "outputs": [],
   "source": [
    "#adding features of summary to original text data\n",
    "from scipy.sparse import hstack\n",
    "finaltrainTF= hstack((XtrainV,sumXtrainV))\n",
    "finaltestTF= hstack((XtestV,sumXtestV))"
   ]
  },
  {
   "cell_type": "markdown",
   "metadata": {},
   "source": [
    "We now have final test and train data to get our optimal hyperparameter.\n",
    "\n",
    "calling our function which applies 10 fold CV and return optimal alpha"
   ]
  },
  {
   "cell_type": "code",
   "execution_count": 210,
   "metadata": {},
   "outputs": [
    {
     "name": "stdout",
     "output_type": "stream",
     "text": [
      "\n",
      "The optimal number of alpha_values is  1e-06\n"
     ]
    },
    {
     "data": {
      "image/png": "[encoded data removed]",
      "text/plain": [
       "<Figure size 432x288 with 1 Axes>"
      ]
     },
     "metadata": {},
     "output_type": "display_data"
    },
    {
     "name": "stdout",
     "output_type": "stream",
     "text": [
      "the F1 for each alpha value is :  [0.851 0.841 0.839 0.838 0.836 0.836 0.835 0.834 0.834 0.833 0.832 0.832\n",
      " 0.832 0.831 0.831 0.831 0.83  0.83  0.83  0.829 0.829 0.829 0.829 0.829\n",
      " 0.828 0.828 0.828 0.828 0.828 0.827 0.827 0.827 0.827 0.827 0.826 0.826\n",
      " 0.826 0.826 0.826 0.826 0.826 0.825 0.825 0.825 0.825 0.825 0.825 0.825\n",
      " 0.825 0.825]\n",
      "With f1_score as  0.8514532931742563\n"
     ]
    }
   ],
   "source": [
    "# getting optimal alpha\n",
    "aTF= alpha_multinomialnb(finaltrainTF,Ytrain)"
   ]
  },
  {
   "cell_type": "code",
   "execution_count": 192,
   "metadata": {},
   "outputs": [],
   "source": [
    "# training our data on optimal alpha\n",
    "mnbTF= MultinomialNB(alpha=a)\n",
    "mnbTF.fit(XtrainV,Ytrain)\n",
    "predTF=mnbTF.predict(XtestV)"
   ]
  },
  {
   "cell_type": "markdown",
   "metadata": {},
   "source": [
    "### Feature importance"
   ]
  },
  {
   "cell_type": "code",
   "execution_count": 193,
   "metadata": {},
   "outputs": [],
   "source": [
    "tfidf_features= model.get_feature_names()"
   ]
  },
  {
   "cell_type": "code",
   "execution_count": 194,
   "metadata": {},
   "outputs": [
    {
     "data": {
      "text/plain": [
       "(2, 39730)"
      ]
     },
     "execution_count": 194,
     "metadata": {},
     "output_type": "execute_result"
    }
   ],
   "source": [
    "feat_count = mnbTF.feature_count_\n",
    "feat_count.shape"
   ]
  },
  {
   "cell_type": "code",
   "execution_count": 195,
   "metadata": {},
   "outputs": [
    {
     "data": {
      "text/plain": [
       "array([[-28.9476787 , -28.9476787 , -28.9476787 , ..., -28.9476787 ,\n",
       "        -28.9476787 , -28.9476787 ],\n",
       "       [-11.44877052, -11.44877052, -11.44877052, ..., -11.44877052,\n",
       "        -11.44877052, -11.44877052]])"
      ]
     },
     "execution_count": 195,
     "metadata": {},
     "output_type": "execute_result"
    }
   ],
   "source": [
    "log_prob = mnbTF.feature_log_prob_\n",
    "log_prob"
   ]
  },
  {
   "cell_type": "code",
   "execution_count": 196,
   "metadata": {},
   "outputs": [
    {
     "data": {
      "text/plain": [
       "(39730, 2)"
      ]
     },
     "execution_count": 196,
     "metadata": {},
     "output_type": "execute_result"
    }
   ],
   "source": [
    "feature_prob = pd.DataFrame(log_prob, columns = tfidf_features)\n",
    "feature_prob_tr = feature_prob.T\n",
    "feature_prob_tr.shape"
   ]
  },
  {
   "cell_type": "code",
   "execution_count": 197,
   "metadata": {},
   "outputs": [
    {
     "name": "stdout",
     "output_type": "stream",
     "text": [
      "Top 10 Negative Features:-\n",
      " tast         -6.451784\n",
      "like         -6.554001\n",
      "disappoint   -6.633624\n",
      "product      -6.653287\n",
      "would        -6.673563\n",
      "one          -6.820320\n",
      "bad          -6.887859\n",
      "tri          -6.925399\n",
      "money        -6.942010\n",
      "wast         -6.961842\n",
      "Name: 0, dtype: float64\n",
      "\n",
      "\n",
      " Top 10 Positive Features:-\n",
      " tast     -6.638577\n",
      "like     -6.658380\n",
      "great    -6.659154\n",
      "love     -6.668336\n",
      "good     -6.692609\n",
      "flavor   -6.763374\n",
      "use      -6.810635\n",
      "one      -6.822044\n",
      "tri      -6.837382\n",
      "make     -6.846759\n",
      "Name: 1, dtype: float64\n"
     ]
    }
   ],
   "source": [
    "# To show top 10 feature from both class\n",
    "# Feature Importance\n",
    "print(\"Top 10 Negative Features:-\\n\",feature_prob_tr[0].sort_values(ascending = False)[0:10])\n",
    "print(\"\\n\\n Top 10 Positive Features:-\\n\",feature_prob_tr[1].sort_values(ascending = False)[0:10])"
   ]
  },
  {
   "cell_type": "markdown",
   "metadata": {},
   "source": [
    "## Checking performance of our model"
   ]
  },
  {
   "cell_type": "code",
   "execution_count": 202,
   "metadata": {},
   "outputs": [
    {
     "name": "stdout",
     "output_type": "stream",
     "text": [
      "accuracy on test data 0.816\n",
      "             precision    recall  f1-score   support\n",
      "\n",
      "          0       0.38      0.55      0.45      4098\n",
      "          1       0.92      0.86      0.89     25902\n",
      "\n",
      "avg / total       0.85      0.82      0.83     30000\n",
      "\n"
     ]
    },
    {
     "data": {
      "text/plain": [
       "<matplotlib.axes._subplots.AxesSubplot at 0x13c4e3f2898>"
      ]
     },
     "execution_count": 202,
     "metadata": {},
     "output_type": "execute_result"
    },
    {
     "data": {
      "image/png": "[encoded data removed]",
      "text/plain": [
       "<Figure size 432x288 with 2 Axes>"
      ]
     },
     "metadata": {},
     "output_type": "display_data"
    }
   ],
   "source": [
    "from sklearn.metrics import classification_report\n",
    "print('accuracy on test data',accuracy_score(Ytest,predTF))\n",
    "print(classification_report(Ytest,predTF))\n",
    "\n",
    "from sklearn.metrics import confusion_matrix\n",
    "tn, fp, fn, tp = confusion_matrix(Ytest,predTF).ravel()\n",
    "cfm= confusion_matrix(Ytest,predTF)\n",
    "df_cm = pd.DataFrame(cfm,columns = ['Pred Negative','Pred Positive']\\\n",
    "                     ,index = ['Real Negative','Real Positive'])\n",
    "plt.title('Confusion Matrix for test data')\n",
    "sns.heatmap(df_cm, annot=True)\n"
   ]
  },
  {
   "cell_type": "code",
   "execution_count": 203,
   "metadata": {},
   "outputs": [
    {
     "name": "stdout",
     "output_type": "stream",
     "text": [
      " TN 2268\n",
      " FP 1830\n",
      " FN 3690\n",
      " TP 22212\n"
     ]
    }
   ],
   "source": [
    "print(' TN {}\\n FP {}\\n FN {}\\n TP {}'.format(tn,fp,fn,tp))"
   ]
  },
  {
   "cell_type": "markdown",
   "metadata": {},
   "source": [
    "#### Confusion matrix on train data"
   ]
  },
  {
   "cell_type": "code",
   "execution_count": 204,
   "metadata": {},
   "outputs": [],
   "source": [
    "predtrTF=mnbTF.predict(XtrainV)"
   ]
  },
  {
   "cell_type": "code",
   "execution_count": 205,
   "metadata": {},
   "outputs": [
    {
     "data": {
      "text/plain": [
       "<matplotlib.axes._subplots.AxesSubplot at 0x13c5029d978>"
      ]
     },
     "execution_count": 205,
     "metadata": {},
     "output_type": "execute_result"
    },
    {
     "data": {
      "image/png": "[encoded data removed]",
      "text/plain": [
       "<Figure size 432x288 with 2 Axes>"
      ]
     },
     "metadata": {},
     "output_type": "display_data"
    }
   ],
   "source": [
    "cfm= confusion_matrix(Ytrain,predtrTF)\n",
    "df_cm = pd.DataFrame(cfm,columns = ['Pred Negative','Pred Positive']\\\n",
    "                     ,index = ['Real Negative','Real Positive'])\n",
    "plt.title('Confusion Matrix for train data')\n",
    "sns.heatmap(df_cm, annot=True)"
   ]
  },
  {
   "cell_type": "markdown",
   "metadata": {},
   "source": [
    "## Observations:-\n",
    "* Test data accuracy = 81.6%\n",
    "* F1 score of test data = 83%\n",
    "* precision = 85%\n",
    "* Average recall= 82%\n",
    "* sensitivity= 86%\n",
    "* specificity= 55%\n",
    "* TN = 2268, FP = 1830, FN =  3690, TP = 22212\n",
    "* F1 score on train data= 85.15%\n",
    "***\n",
    "# <center>Summary</center>\n",
    "Vectorization|Accuracy|F1 score|Precision|Recall|Sensitivity|Specificity|True positive|False positive|False Negative|True positive\n",
    "---|---|---|---|---|---|---|---|---|---|---\n",
    "Bow|81.52|83|85|82|86|56|2305|1793|3749|22153\n",
    "Tfidf|81.6|83|85|82|86|55|2268|1830|3690|22212"
   ]
  },
  {
   "cell_type": "code",
   "execution_count": 4,
   "metadata": {},
   "outputs": [
    {
     "name": "stdout",
     "output_type": "stream",
     "text": [
      "End\n",
      "\n",
      "\n",
      "\n",
      "\n"
     ]
    }
   ],
   "source": [
    "print('End\\n\\n\\n\\n')"
   ]
  },
  {
   "cell_type": "code",
   "execution_count": null,
   "metadata": {},
   "outputs": [],
   "source": []
  }
 ],
 "metadata": {
  "kernelspec": {
   "display_name": "Python 3",
   "language": "python",
   "name": "python3"
  },
  "language_info": {
   "codemirror_mode": {
    "name": "ipython",
    "version": 3
   },
   "file_extension": ".py",
   "mimetype": "text/x-python",
   "name": "python",
   "nbconvert_exporter": "python",
   "pygments_lexer": "ipython3",
   "version": "3.6.5"
  }
 },
 "nbformat": 4,
 "nbformat_minor": 2
}
